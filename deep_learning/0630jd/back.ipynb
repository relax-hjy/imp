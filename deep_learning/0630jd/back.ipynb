{
 "cells": [
  {
   "cell_type": "code",
   "id": "initial_id",
   "metadata": {
    "collapsed": true,
    "ExecuteTime": {
     "end_time": "2025-06-30T03:07:47.298752Z",
     "start_time": "2025-06-30T03:07:37.367867Z"
    }
   },
   "source": "import torch",
   "outputs": [],
   "execution_count": 2
  },
  {
   "metadata": {
    "ExecuteTime": {
     "end_time": "2025-06-30T03:17:47.897443Z",
     "start_time": "2025-06-30T03:17:47.877125Z"
    }
   },
   "cell_type": "code",
   "source": [
    "def back():\n",
    "    w=torch.tensor(4.0,requires_grad=True) # 初始化模型参数\n",
    "    b=torch.tensor(1.0,requires_grad=True)\n",
    "    \n",
    "    x=torch.tensor(3.0)   # 输入值和目标值\n",
    "    y=torch.tensor(5.0)\n",
    "    \n",
    "    z=w*x+b  #  计算模型的预测值\n",
    "    \n",
    "    loss=torch.nn.MSELoss() # 损失函数（预测值，目标值）\n",
    "    loss=loss(z,y)\n",
    "    \n",
    "    loss.backward() # 反向传播，根据损失函数计算梯度\n",
    "    \n",
    "    print(w.grad,b.grad)\n",
    "    \n",
    "back()"
   ],
   "id": "cc73ad749f8c84aa",
   "outputs": [
    {
     "name": "stdout",
     "output_type": "stream",
     "text": [
      "tensor(48.) tensor(16.)\n"
     ]
    }
   ],
   "execution_count": 6
  },
  {
   "metadata": {},
   "cell_type": "code",
   "outputs": [],
   "execution_count": null,
   "source": "",
   "id": "4045c78e05d81f4"
  }
 ],
 "metadata": {
  "kernelspec": {
   "display_name": "Python 3",
   "language": "python",
   "name": "python3"
  },
  "language_info": {
   "codemirror_mode": {
    "name": "ipython",
    "version": 2
   },
   "file_extension": ".py",
   "mimetype": "text/x-python",
   "name": "python",
   "nbconvert_exporter": "python",
   "pygments_lexer": "ipython2",
   "version": "2.7.6"
  }
 },
 "nbformat": 4,
 "nbformat_minor": 5
}
