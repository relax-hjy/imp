{
 "cells": [
  {
   "cell_type": "code",
   "id": "initial_id",
   "metadata": {
    "collapsed": true,
    "ExecuteTime": {
     "end_time": "2025-07-19T05:32:41.858030Z",
     "start_time": "2025-07-19T05:32:41.847436Z"
    }
   },
   "source": [
    "\"\"\"\n",
    "1.本地部署大模型\n",
    "2.根据业务背景，针对不同任务设计不同提示词，再通过大模型提示学习能力完成需求。\n",
    "\n",
    "\"\"\""
   ],
   "outputs": [
    {
     "data": {
      "text/plain": [
       "'\\n1.本地部署大模型\\n2.根据业务背景，针对不同任务设计不同提示词，再通过大模型提示学习能力完成需求。\\n\\n'"
      ]
     },
     "execution_count": 1,
     "metadata": {},
     "output_type": "execute_result"
    }
   ],
   "execution_count": 1
  },
  {
   "metadata": {
    "ExecuteTime": {
     "end_time": "2025-07-19T05:34:08.853781Z",
     "start_time": "2025-07-19T05:34:08.230323Z"
    }
   },
   "cell_type": "code",
   "source": [
    "from rich import print\n",
    "from rich.console import Console\n",
    "from transformers import AutoTokenizer, AutoModel"
   ],
   "id": "bb503ef63a84d39e",
   "outputs": [],
   "execution_count": 3
  },
  {
   "metadata": {
    "ExecuteTime": {
     "end_time": "2025-07-19T05:34:18.007949Z",
     "start_time": "2025-07-19T05:34:12.066655Z"
    }
   },
   "cell_type": "code",
   "source": [
    "from typing import List, Dict\n",
    "import os\n",
    "os.environ['PATH'] = (os.environ.get(\"PATH\", \"\") + os.pathsep +\n",
    "                      r'C:\\Users\\13408\\.conda\\envs\\Deep_learning\\Lib\\site-packages\\torch\\lib')\n",
    "# 分类\n",
    "\"\"\"\n",
    "角色\n",
    "任务说明\n",
    "样本\n",
    "返回格式\n",
    "init_prompt()\n",
    "reference()\n",
    "\"\"\"\n",
    "class_examples = {\n",
    "    '新闻报道': '今日，股市经历了一轮震荡，受到宏观经济数据和全球贸易紧张局势的影响。投资者密切关注美联储可能的政策调整，以适应市场的不确定性。',\n",
    "    '财务报告': '本公司年度财务报告显示，去年公司实现了稳步增长的盈利，同时资产负债表呈现强劲的状况。经济环境的稳定和管理层的有效战略执行为公司的健康发展奠定了基础。',\n",
    "    '公司公告': '本公司高兴地宣布成功完成最新一轮并购交易，收购了一家在人工智能领域领先的公司。这一战略举措将有助于扩大我们的业务领域，提高市场竞争力',\n",
    "    '分析师报告': '最新的行业分析报告指出，科技公司的创新将成为未来增长的主要推动力。云计算、人工智能和数字化转型被认为是引领行业发展的关键因素，投资者应关注这些趋势'}\n",
    "def init_prompts():\n",
    "    class_list=list(class_examples.keys())\n",
    "    pre_history = [\n",
    "        (f'现在你是一个文本分类器，你需要按照要求将我给你的句子分类到：{class_list}类别中。',\n",
    "         f'好的。')\n",
    "    ]\n",
    "    for type,example in class_examples.items():\n",
    "        print(f'键--》{type}')\n",
    "        print(f'值--》{example}')\n",
    "        pre_history.append(\n",
    "            (f'\"{example}\"是{class_list}任务的什么类别',type)\n",
    "        )\n",
    "    return {\"class_list\":class_list,\"pre_history\":pre_history}\n",
    "\n",
    "def inference(sentences:List, custom_settings:Dict):\n",
    "    for sentence in sentences:\n",
    "        with console.status(f\"正在处理{sentence}...\"):\n",
    "            sentence_prompt =f'\"{sentence}\"是{custom_settings[\"class_list\"]}任务的什么类别'\n",
    "            response, history = model.chat(tokenizer, sentence_prompt, history=custom_settings[\"pre_history\"])\n",
    "            print(sentence)\n",
    "            print(response)\n",
    "            print(history)\n",
    "if __name__ == \"__main__\":\n",
    "    console=Console()\n",
    "    device = 'cuda:0'\n",
    "    tokenizer=AutoTokenizer.from_pretrained(r\"C:\\Users\\13408\\Desktop\\repos\\imp\\deep_learning\\pretrain_models\\chatglm2-6b-int4\",trust_remote_code=True)\n",
    "    model=AutoModel.from_pretrained(r\"C:\\Users\\13408\\Desktop\\repos\\imp\\deep_learning\\pretrain_models\\chatglm2-6b-int4\",trust_remote_code=True).half().cuda()\n",
    "    model = model.eval()\n",
    "    model.to(\"cuda\")\n",
    "    # sentences = [\n",
    "    #     \"今日，央行发布公告宣布降低利率，以刺激经济增长。这一降息举措将影响贷款利率，并在未来几个季度内对金融市场产生影响。\",\n",
    "    #     \"ABC公司今日发布公告称，已成功完成对XYZ公司股权的收购交易。本次交易是ABC公司在扩大业务范围、加强市场竞争力方面的重要举措。据悉，此次收购将进一步巩固ABC公司在行业中的地位，并为未来业务发展提供更广阔的发展空间。详情请见公司官方网站公告栏\",\n",
    "    #     \"公司资产负债表显示，公司偿债能力强劲，现金流充足，为未来投资和扩张提供了坚实的财务基础。\",\n",
    "    #     \"最新的分析报告指出，可再生能源行业预计将在未来几年经历持续增长，投资者应该关注这一领域的投资机会\",\n",
    "    #     ]\n",
    "    sentences = [\"金融系统是建设金融强国责无旁贷的主力军，必须切实把思想和行动统一到党中央决策部署上来，深刻把握建设金融强国的精髓要义和实践要求，不断增强使命感、责任感，推动宏伟蓝图一步步变成美好现实\"]\n",
    "    custom_settings=init_prompts()\n",
    "    \n",
    "    inference(\n",
    "        sentences,\n",
    "        custom_settings\n",
    "    )"
   ],
   "id": "3e83466732fb2a8",
   "outputs": [
    {
     "name": "stderr",
     "output_type": "stream",
     "text": [
      "C:\\Users\\13408\\.conda\\envs\\Deep_learning\\lib\\site-packages\\transformers\\modeling_utils.py:463: FutureWarning: You are using `torch.load` with `weights_only=False` (the current default value), which uses the default pickle module implicitly. It is possible to construct malicious pickle data which will execute arbitrary code during unpickling (See https://github.com/pytorch/pytorch/blob/main/SECURITY.md#untrusted-models for more details). In a future release, the default value for `weights_only` will be flipped to `True`. This limits the functions that could be executed during unpickling. Arbitrary objects will no longer be allowed to be loaded via this mode unless they are explicitly allowlisted by the user via `torch.serialization.add_safe_globals`. We recommend you start setting `weights_only=True` for any use case where you don't have full control of the loaded file. Please open an issue on GitHub for any issues related to this experimental feature.\n",
      "  return torch.load(checkpoint_file, map_location=\"cpu\")\n",
      "Symbol cudaLaunchKernel not found in C:\\Program Files (x86)\\NVIDIA Corporation\\PhysX\\Common\\cudart64_65.dll\n",
      "Compile parallel cpu kernel gcc -O3 -fPIC -pthread -fopenmp -std=c99 C:\\Users\\13408\\.cache\\huggingface\\modules\\transformers_modules\\chatglm2-6b-int4\\quantization_kernels_parallel.c -shared -o C:\\Users\\13408\\.cache\\huggingface\\modules\\transformers_modules\\chatglm2-6b-int4\\quantization_kernels_parallel.so failed.\n",
      "Compile cpu kernel gcc -O3 -fPIC -std=c99 C:\\Users\\13408\\.cache\\huggingface\\modules\\transformers_modules\\chatglm2-6b-int4\\quantization_kernels.c -shared -o C:\\Users\\13408\\.cache\\huggingface\\modules\\transformers_modules\\chatglm2-6b-int4\\quantization_kernels.so failed.\n"
     ]
    },
    {
     "data": {
      "text/plain": [
       "键--》新闻报道\n"
      ],
      "text/html": [
       "<pre style=\"white-space:pre;overflow-x:auto;line-height:normal;font-family:Menlo,'DejaVu Sans Mono',consolas,'Courier New',monospace\">键--》新闻报道\n",
       "</pre>\n"
      ]
     },
     "metadata": {},
     "output_type": "display_data"
    },
    {
     "data": {
      "text/plain": [
       "值--》今日，股市经历了一轮震荡，受到宏观经济数据和全球贸易紧张局势的影响。投资者密切关注美联储可能的政策调整，以适\n",
       "应市场的不确定性。\n"
      ],
      "text/html": [
       "<pre style=\"white-space:pre;overflow-x:auto;line-height:normal;font-family:Menlo,'DejaVu Sans Mono',consolas,'Courier New',monospace\">值--》今日，股市经历了一轮震荡，受到宏观经济数据和全球贸易紧张局势的影响。投资者密切关注美联储可能的政策调整，以适\n",
       "应市场的不确定性。\n",
       "</pre>\n"
      ]
     },
     "metadata": {},
     "output_type": "display_data"
    },
    {
     "data": {
      "text/plain": [
       "键--》财务报告\n"
      ],
      "text/html": [
       "<pre style=\"white-space:pre;overflow-x:auto;line-height:normal;font-family:Menlo,'DejaVu Sans Mono',consolas,'Courier New',monospace\">键--》财务报告\n",
       "</pre>\n"
      ]
     },
     "metadata": {},
     "output_type": "display_data"
    },
    {
     "data": {
      "text/plain": [
       "值--》本公司年度财务报告显示，去年公司实现了稳步增长的盈利，同时资产负债表呈现强劲的状况。经济环境的稳定和管理层的\n",
       "有效战略执行为公司的健康发展奠定了基础。\n"
      ],
      "text/html": [
       "<pre style=\"white-space:pre;overflow-x:auto;line-height:normal;font-family:Menlo,'DejaVu Sans Mono',consolas,'Courier New',monospace\">值--》本公司年度财务报告显示，去年公司实现了稳步增长的盈利，同时资产负债表呈现强劲的状况。经济环境的稳定和管理层的\n",
       "有效战略执行为公司的健康发展奠定了基础。\n",
       "</pre>\n"
      ]
     },
     "metadata": {},
     "output_type": "display_data"
    },
    {
     "data": {
      "text/plain": [
       "键--》公司公告\n"
      ],
      "text/html": [
       "<pre style=\"white-space:pre;overflow-x:auto;line-height:normal;font-family:Menlo,'DejaVu Sans Mono',consolas,'Courier New',monospace\">键--》公司公告\n",
       "</pre>\n"
      ]
     },
     "metadata": {},
     "output_type": "display_data"
    },
    {
     "data": {
      "text/plain": [
       "值--》本公司高兴地宣布成功完成最新一轮并购交易，收购了一家在人工智能领域领先的公司。这一战略举措将有助于扩大我们的\n",
       "业务领域，提高市场竞争力\n"
      ],
      "text/html": [
       "<pre style=\"white-space:pre;overflow-x:auto;line-height:normal;font-family:Menlo,'DejaVu Sans Mono',consolas,'Courier New',monospace\">值--》本公司高兴地宣布成功完成最新一轮并购交易，收购了一家在人工智能领域领先的公司。这一战略举措将有助于扩大我们的\n",
       "业务领域，提高市场竞争力\n",
       "</pre>\n"
      ]
     },
     "metadata": {},
     "output_type": "display_data"
    },
    {
     "data": {
      "text/plain": [
       "键--》分析师报告\n"
      ],
      "text/html": [
       "<pre style=\"white-space:pre;overflow-x:auto;line-height:normal;font-family:Menlo,'DejaVu Sans Mono',consolas,'Courier New',monospace\">键--》分析师报告\n",
       "</pre>\n"
      ]
     },
     "metadata": {},
     "output_type": "display_data"
    },
    {
     "data": {
      "text/plain": [
       "值--》最新的行业分析报告指出，科技公司的创新将成为未来增长的主要推动力。云计算、人工智能和数字化转型被认为是引领行\n",
       "业发展的关键因素，投资者应关注这些趋势\n"
      ],
      "text/html": [
       "<pre style=\"white-space:pre;overflow-x:auto;line-height:normal;font-family:Menlo,'DejaVu Sans Mono',consolas,'Courier New',monospace\">值--》最新的行业分析报告指出，科技公司的创新将成为未来增长的主要推动力。云计算、人工智能和数字化转型被认为是引领行\n",
       "业发展的关键因素，投资者应关注这些趋势\n",
       "</pre>\n"
      ]
     },
     "metadata": {},
     "output_type": "display_data"
    },
    {
     "data": {
      "text/plain": [
       "Output()"
      ],
      "application/vnd.jupyter.widget-view+json": {
       "version_major": 2,
       "version_minor": 0,
       "model_id": "f3d2722031a74afd9738a80b48f81594"
      }
     },
     "metadata": {},
     "output_type": "display_data"
    },
    {
     "data": {
      "text/plain": [
       "C:\\Users\\13408/.cache\\huggingface\\modules\\transformers_modules\\chatglm2-6b-int4\\modeling_chatglm.py:226: \n",
       "UserWarning: 1Torch was not compiled with flash attention. (Triggered internally at \n",
       "C:\\actions-runner\\_work\\pytorch\\pytorch\\builder\\windows\\pytorch\\aten\\src\\ATen\\native\\transformers\\cuda\\sdp_utils.cp\n",
       "p:555.)\n",
       "  context_layer = torch.nn.functional.scaled_dot_product_attention(query_layer, key_layer, value_layer,\n"
      ],
      "text/html": [
       "<pre style=\"white-space:pre;overflow-x:auto;line-height:normal;font-family:Menlo,'DejaVu Sans Mono',consolas,'Courier New',monospace\">C:\\Users\\13408/.cache\\huggingface\\modules\\transformers_modules\\chatglm2-6b-int4\\modeling_chatglm.py:226: \n",
       "UserWarning: 1Torch was not compiled with flash attention. (Triggered internally at \n",
       "C:\\actions-runner\\_work\\pytorch\\pytorch\\builder\\windows\\pytorch\\aten\\src\\ATen\\native\\transformers\\cuda\\sdp_utils.cp\n",
       "p:555.)\n",
       "  context_layer = torch.nn.functional.scaled_dot_product_attention(query_layer, key_layer, value_layer,\n",
       "</pre>\n"
      ]
     },
     "metadata": {},
     "output_type": "display_data"
    },
    {
     "data": {
      "text/plain": [
       "金融系统是建设金融强国责无旁贷的主力军，必须切实把思想和行动统一到党中央决策部署上来，深刻把握建设金融强国的精髓要\n",
       "义和实践要求，不断增强使命感、责任感，推动宏伟蓝图一步步变成美好现实\n"
      ],
      "text/html": [
       "<pre style=\"white-space:pre;overflow-x:auto;line-height:normal;font-family:Menlo,'DejaVu Sans Mono',consolas,'Courier New',monospace\">金融系统是建设金融强国责无旁贷的主力军，必须切实把思想和行动统一到党中央决策部署上来，深刻把握建设金融强国的精髓要\n",
       "义和实践要求，不断增强使命感、责任感，推动宏伟蓝图一步步变成美好现实\n",
       "</pre>\n"
      ]
     },
     "metadata": {},
     "output_type": "display_data"
    },
    {
     "data": {
      "text/plain": [
       "公司公告\n"
      ],
      "text/html": [
       "<pre style=\"white-space:pre;overflow-x:auto;line-height:normal;font-family:Menlo,'DejaVu Sans Mono',consolas,'Courier New',monospace\">公司公告\n",
       "</pre>\n"
      ]
     },
     "metadata": {},
     "output_type": "display_data"
    },
    {
     "data": {
      "text/plain": [
       "\u001B[1m[\u001B[0m\n",
       "    \u001B[1m(\u001B[0m\n",
       "        \u001B[32m\"现在你是一个文本分类器，你需要按照要求将我给你的句子分类到：\u001B[0m\u001B[32m[\u001B[0m\u001B[32m'新闻报道', '财务报告', '公司公告', \u001B[0m\n",
       "\u001B[32m'分析师报告'\u001B[0m\u001B[32m]\u001B[0m\u001B[32m类别中。\"\u001B[0m,\n",
       "        \u001B[32m'好的。'\u001B[0m\n",
       "    \u001B[1m)\u001B[0m,\n",
       "    \u001B[1m(\u001B[0m\n",
       "        \u001B[32m'\"今日，股市经历了一轮震荡，受到宏观经济数据和全球贸易紧张局势的影响。投资者密切关注美联储可能的政策调整，\u001B[0m\n",
       "\u001B[32m以适应市场的不确定性。\"是\u001B[0m\u001B[32m[\u001B[0m\u001B[32m\\'新闻报道\\', \\'财务报告\\', \\'公司公告\\', \\'分析师报告\\'\u001B[0m\u001B[32m]\u001B[0m\u001B[32m任务的什么类别'\u001B[0m,\n",
       "        \u001B[32m'新闻报道'\u001B[0m\n",
       "    \u001B[1m)\u001B[0m,\n",
       "    \u001B[1m(\u001B[0m\n",
       "        \u001B[32m'\"本公司年度财务报告显示，去年公司实现了稳步增长的盈利，同时资产负债表呈现强劲的状况。经济环境的稳定和管理\u001B[0m\n",
       "\u001B[32m层的有效战略执行为公司的健康发展奠定了基础。\"是\u001B[0m\u001B[32m[\u001B[0m\u001B[32m\\'新闻报道\\', \\'财务报告\\', \\'公司公告\\', \u001B[0m\n",
       "\u001B[32m\\'分析师报告\\'\u001B[0m\u001B[32m]\u001B[0m\u001B[32m任务的什么类别'\u001B[0m,\n",
       "        \u001B[32m'财务报告'\u001B[0m\n",
       "    \u001B[1m)\u001B[0m,\n",
       "    \u001B[1m(\u001B[0m\n",
       "        \u001B[32m'\"本公司高兴地宣布成功完成最新一轮并购交易，收购了一家在人工智能领域领先的公司。这一战略举措将有助于扩大我\u001B[0m\n",
       "\u001B[32m们的业务领域，提高市场竞争力\"是\u001B[0m\u001B[32m[\u001B[0m\u001B[32m\\'新闻报道\\', \\'财务报告\\', \\'公司公告\\', \\'分析师报告\\'\u001B[0m\u001B[32m]\u001B[0m\u001B[32m任务的什么类别'\u001B[0m,\n",
       "        \u001B[32m'公司公告'\u001B[0m\n",
       "    \u001B[1m)\u001B[0m,\n",
       "    \u001B[1m(\u001B[0m\n",
       "        \u001B[32m'\"最新的行业分析报告指出，科技公司的创新将成为未来增长的主要推动力。云计算、人工智能和数字化转型被认为是引\u001B[0m\n",
       "\u001B[32m领行业发展的关键因素，投资者应关注这些趋势\"是\u001B[0m\u001B[32m[\u001B[0m\u001B[32m\\'新闻报道\\', \\'财务报告\\', \\'公司公告\\', \u001B[0m\n",
       "\u001B[32m\\'分析师报告\\'\u001B[0m\u001B[32m]\u001B[0m\u001B[32m任务的什么类别'\u001B[0m,\n",
       "        \u001B[32m'分析师报告'\u001B[0m\n",
       "    \u001B[1m)\u001B[0m,\n",
       "    \u001B[1m(\u001B[0m\n",
       "        \u001B[32m'\"金融系统是建设金融强国责无旁贷的主力军，必须切实把思想和行动统一到党中央决策部署上来，深刻把握建设金融强\u001B[0m\n",
       "\u001B[32m国的精髓要义和实践要求，不断增强使命感、责任感，推动宏伟蓝图一步步变成美好现实\"是\u001B[0m\u001B[32m[\u001B[0m\u001B[32m\\'新闻报道\\', \\'财务报告\\', \u001B[0m\n",
       "\u001B[32m\\'公司公告\\', \\'分析师报告\\'\u001B[0m\u001B[32m]\u001B[0m\u001B[32m任务的什么类别'\u001B[0m,\n",
       "        \u001B[32m'公司公告'\u001B[0m\n",
       "    \u001B[1m)\u001B[0m\n",
       "\u001B[1m]\u001B[0m\n"
      ],
      "text/html": [
       "<pre style=\"white-space:pre;overflow-x:auto;line-height:normal;font-family:Menlo,'DejaVu Sans Mono',consolas,'Courier New',monospace\"><span style=\"font-weight: bold\">[</span>\n",
       "    <span style=\"font-weight: bold\">(</span>\n",
       "        <span style=\"color: #008000; text-decoration-color: #008000\">\"现在你是一个文本分类器，你需要按照要求将我给你的句子分类到：['新闻报道', '财务报告', '公司公告', </span>\n",
       "<span style=\"color: #008000; text-decoration-color: #008000\">'分析师报告']类别中。\"</span>,\n",
       "        <span style=\"color: #008000; text-decoration-color: #008000\">'好的。'</span>\n",
       "    <span style=\"font-weight: bold\">)</span>,\n",
       "    <span style=\"font-weight: bold\">(</span>\n",
       "        <span style=\"color: #008000; text-decoration-color: #008000\">'\"今日，股市经历了一轮震荡，受到宏观经济数据和全球贸易紧张局势的影响。投资者密切关注美联储可能的政策调整，</span>\n",
       "<span style=\"color: #008000; text-decoration-color: #008000\">以适应市场的不确定性。\"是[\\'新闻报道\\', \\'财务报告\\', \\'公司公告\\', \\'分析师报告\\']任务的什么类别'</span>,\n",
       "        <span style=\"color: #008000; text-decoration-color: #008000\">'新闻报道'</span>\n",
       "    <span style=\"font-weight: bold\">)</span>,\n",
       "    <span style=\"font-weight: bold\">(</span>\n",
       "        <span style=\"color: #008000; text-decoration-color: #008000\">'\"本公司年度财务报告显示，去年公司实现了稳步增长的盈利，同时资产负债表呈现强劲的状况。经济环境的稳定和管理</span>\n",
       "<span style=\"color: #008000; text-decoration-color: #008000\">层的有效战略执行为公司的健康发展奠定了基础。\"是[\\'新闻报道\\', \\'财务报告\\', \\'公司公告\\', </span>\n",
       "<span style=\"color: #008000; text-decoration-color: #008000\">\\'分析师报告\\']任务的什么类别'</span>,\n",
       "        <span style=\"color: #008000; text-decoration-color: #008000\">'财务报告'</span>\n",
       "    <span style=\"font-weight: bold\">)</span>,\n",
       "    <span style=\"font-weight: bold\">(</span>\n",
       "        <span style=\"color: #008000; text-decoration-color: #008000\">'\"本公司高兴地宣布成功完成最新一轮并购交易，收购了一家在人工智能领域领先的公司。这一战略举措将有助于扩大我</span>\n",
       "<span style=\"color: #008000; text-decoration-color: #008000\">们的业务领域，提高市场竞争力\"是[\\'新闻报道\\', \\'财务报告\\', \\'公司公告\\', \\'分析师报告\\']任务的什么类别'</span>,\n",
       "        <span style=\"color: #008000; text-decoration-color: #008000\">'公司公告'</span>\n",
       "    <span style=\"font-weight: bold\">)</span>,\n",
       "    <span style=\"font-weight: bold\">(</span>\n",
       "        <span style=\"color: #008000; text-decoration-color: #008000\">'\"最新的行业分析报告指出，科技公司的创新将成为未来增长的主要推动力。云计算、人工智能和数字化转型被认为是引</span>\n",
       "<span style=\"color: #008000; text-decoration-color: #008000\">领行业发展的关键因素，投资者应关注这些趋势\"是[\\'新闻报道\\', \\'财务报告\\', \\'公司公告\\', </span>\n",
       "<span style=\"color: #008000; text-decoration-color: #008000\">\\'分析师报告\\']任务的什么类别'</span>,\n",
       "        <span style=\"color: #008000; text-decoration-color: #008000\">'分析师报告'</span>\n",
       "    <span style=\"font-weight: bold\">)</span>,\n",
       "    <span style=\"font-weight: bold\">(</span>\n",
       "        <span style=\"color: #008000; text-decoration-color: #008000\">'\"金融系统是建设金融强国责无旁贷的主力军，必须切实把思想和行动统一到党中央决策部署上来，深刻把握建设金融强</span>\n",
       "<span style=\"color: #008000; text-decoration-color: #008000\">国的精髓要义和实践要求，不断增强使命感、责任感，推动宏伟蓝图一步步变成美好现实\"是[\\'新闻报道\\', \\'财务报告\\', </span>\n",
       "<span style=\"color: #008000; text-decoration-color: #008000\">\\'公司公告\\', \\'分析师报告\\']任务的什么类别'</span>,\n",
       "        <span style=\"color: #008000; text-decoration-color: #008000\">'公司公告'</span>\n",
       "    <span style=\"font-weight: bold\">)</span>\n",
       "<span style=\"font-weight: bold\">]</span>\n",
       "</pre>\n"
      ]
     },
     "metadata": {},
     "output_type": "display_data"
    },
    {
     "data": {
      "text/plain": [],
      "text/html": [
       "<pre style=\"white-space:pre;overflow-x:auto;line-height:normal;font-family:Menlo,'DejaVu Sans Mono',consolas,'Courier New',monospace\"></pre>\n"
      ]
     },
     "metadata": {},
     "output_type": "display_data"
    }
   ],
   "execution_count": 4
  },
  {
   "metadata": {},
   "cell_type": "code",
   "outputs": [],
   "execution_count": null,
   "source": "",
   "id": "75a41c0eef10e75b"
  }
 ],
 "metadata": {
  "kernelspec": {
   "display_name": "Python 3",
   "language": "python",
   "name": "python3"
  },
  "language_info": {
   "codemirror_mode": {
    "name": "ipython",
    "version": 2
   },
   "file_extension": ".py",
   "mimetype": "text/x-python",
   "name": "python",
   "nbconvert_exporter": "python",
   "pygments_lexer": "ipython2",
   "version": "2.7.6"
  }
 },
 "nbformat": 4,
 "nbformat_minor": 5
}
