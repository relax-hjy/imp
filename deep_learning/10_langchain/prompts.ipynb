{
 "cells": [
  {
   "cell_type": "code",
   "id": "initial_id",
   "metadata": {
    "collapsed": true,
    "ExecuteTime": {
     "end_time": "2025-07-28T09:03:14.796731Z",
     "start_time": "2025-07-28T09:03:14.752148Z"
    }
   },
   "source": [
    "from langchain_core.prompts import PromptTemplate\n",
    "from langchain_core.prompts import FewShotPromptTemplate\n",
    "from langchain_community.llms import QianfanLLMEndpoint\n",
    "\n",
    "import os\n",
    "from rich import print\n",
    "os.environ['QIANFAN_AK']=\"bNzufU8QpNnjFoNeJJoPyMoZ\"\n",
    "os.environ['QIANFAN_SK']='9bXb1QYdPVqxHpcBZcr7jmwxYRnjWjbV'"
   ],
   "outputs": [],
   "execution_count": 4
  },
  {
   "metadata": {
    "ExecuteTime": {
     "end_time": "2025-07-28T09:07:49.296594Z",
     "start_time": "2025-07-28T09:07:43.819709Z"
    }
   },
   "cell_type": "code",
   "source": [
    "template = \"我的邻居性{lastname},他生了个儿子，给他儿子起个名字\"\n",
    "prompt= PromptTemplate(input_variables=[\"lastname\"], template=template)\n",
    "prompt_text= prompt.format(lastname=\"王\")\n",
    "llm = QianfanLLMEndpoint(endpoint_id=\"ERNIE-3.5-8K\")\n",
    "\n",
    "result= llm(prompt_text)\n",
    "print(result)"
   ],
   "id": "edc9759e4af0a2f4",
   "outputs": [
    {
     "name": "stderr",
     "output_type": "stream",
     "text": [
      "[INFO][2025-07-28 17:07:43.830] oauth.py:277 [t:15776]: trying to refresh token for ak `bNzufU***`\n",
      "[INFO][2025-07-28 17:07:43.965] oauth.py:304 [t:15776]: successfully refresh token\n"
     ]
    },
    {
     "data": {
      "text/plain": [
       "为新生儿起名是一件既重要又充满喜悦的事情。考虑到您的邻居姓王，我会根据中文命名的传统和习惯，为他儿子起几个名字。以\n",
       "下是我的建议：\n",
       "\n",
       "\u001B[1;36m1\u001B[0m. **王浩然**：\n",
       "- **浩**：意味着广大、无边，寓意孩子将来能有广阔的视野和胸怀。\n",
       "- **然**：常用于表达自然、真实之意，寓意孩子纯真无邪。\n",
       "\n",
       "\u001B[1;36m2\u001B[0m. **王思远**：\n",
       "- **思**：表示思考、思维，寓意孩子聪明、有远见。\n",
       "- **远**：意味着远大前程、志向高远，代表未来可期望的美好。\n",
       "\n",
       "\u001B[1;36m3\u001B[0m. **王瑞宇**：\n",
       "- **瑞**：表示吉祥、幸运，是希望孩子未来好运连连的意思。\n",
       "- **宇**：表示广阔的天空，希望孩子的胸怀宽广。\n",
       "\n",
       "\u001B[1;36m4\u001B[0m. **王子墨**：\n",
       "- **子**：在中文命名中常用于表示家族血脉的延续。\n",
       "- **墨**：可指文化、学识，寓意孩子将来学识渊博。\n",
       "\n",
       "\u001B[1;36m5\u001B[0m. **王峻熙**：\n",
       "- **峻**：有高大、坚强的意味，寓意孩子坚强勇敢。\n",
       "- **熙**：指光明照耀、兴盛繁盛之意。\n",
       "\n",
       "每个名字都有其独特的含义和美好的祝愿。这些名字的选材参考了中国传统的文化因素以及对孩子未来的美好寄托，当然也加入了\n",
       "适当的创意来赋予它们时代的气息和特殊含义。选择时建议与家庭成员的偏好及价值观相符。不过请记得，上述建议仅供参考，最\n",
       "终的决定应由家长根据个人喜好和家庭文化来决定。\n"
      ],
      "text/html": [
       "<pre style=\"white-space:pre;overflow-x:auto;line-height:normal;font-family:Menlo,'DejaVu Sans Mono',consolas,'Courier New',monospace\">为新生儿起名是一件既重要又充满喜悦的事情。考虑到您的邻居姓王，我会根据中文命名的传统和习惯，为他儿子起几个名字。以\n",
       "下是我的建议：\n",
       "\n",
       "<span style=\"color: #008080; text-decoration-color: #008080; font-weight: bold\">1</span>. **王浩然**：\n",
       "- **浩**：意味着广大、无边，寓意孩子将来能有广阔的视野和胸怀。\n",
       "- **然**：常用于表达自然、真实之意，寓意孩子纯真无邪。\n",
       "\n",
       "<span style=\"color: #008080; text-decoration-color: #008080; font-weight: bold\">2</span>. **王思远**：\n",
       "- **思**：表示思考、思维，寓意孩子聪明、有远见。\n",
       "- **远**：意味着远大前程、志向高远，代表未来可期望的美好。\n",
       "\n",
       "<span style=\"color: #008080; text-decoration-color: #008080; font-weight: bold\">3</span>. **王瑞宇**：\n",
       "- **瑞**：表示吉祥、幸运，是希望孩子未来好运连连的意思。\n",
       "- **宇**：表示广阔的天空，希望孩子的胸怀宽广。\n",
       "\n",
       "<span style=\"color: #008080; text-decoration-color: #008080; font-weight: bold\">4</span>. **王子墨**：\n",
       "- **子**：在中文命名中常用于表示家族血脉的延续。\n",
       "- **墨**：可指文化、学识，寓意孩子将来学识渊博。\n",
       "\n",
       "<span style=\"color: #008080; text-decoration-color: #008080; font-weight: bold\">5</span>. **王峻熙**：\n",
       "- **峻**：有高大、坚强的意味，寓意孩子坚强勇敢。\n",
       "- **熙**：指光明照耀、兴盛繁盛之意。\n",
       "\n",
       "每个名字都有其独特的含义和美好的祝愿。这些名字的选材参考了中国传统的文化因素以及对孩子未来的美好寄托，当然也加入了\n",
       "适当的创意来赋予它们时代的气息和特殊含义。选择时建议与家庭成员的偏好及价值观相符。不过请记得，上述建议仅供参考，最\n",
       "终的决定应由家长根据个人喜好和家庭文化来决定。\n",
       "</pre>\n"
      ]
     },
     "metadata": {},
     "output_type": "display_data"
    }
   ],
   "execution_count": 9
  },
  {
   "metadata": {
    "ExecuteTime": {
     "end_time": "2025-07-28T09:13:42.412718Z",
     "start_time": "2025-07-28T09:13:42.063923Z"
    }
   },
   "cell_type": "code",
   "source": [
    "examples=[\n",
    "    {\"word\":\"开心\",\"antonym\":\"难过\"},\n",
    "    {\"word\":\"小\",\"antonym\":\"大\"}\n",
    "]\n",
    "example_template=\"\"\"\n",
    "单词：{word}\n",
    "反义词：{antonym}\\n\n",
    "\"\"\"\n",
    "example_prompt= PromptTemplate(input_variables=[\"word\",\"antonym\"], template=example_template)\n",
    "\n",
    "few_shot_prompt= FewShotPromptTemplate(\n",
    "    examples=examples,\n",
    "    example_prompt=example_prompt,\n",
    "    prefix=\"请给出最后一个单词的反义词，只要回答一个答案即可，回答末尾不要句号\",\n",
    "    suffix=\"\\n单词：{input}\\n反义词：\",\n",
    "    input_variables=[\"input\"],\n",
    "    example_separator=\"\\n\"\n",
    ")\n",
    "prompt_text= few_shot_prompt.format(input=\"亲近\")\n",
    "\n",
    "llm= QianfanLLMEndpoint(endpoint_id=\"ERNIE-3.5-8K\")\n",
    "print(prompt_text)\n",
    "result= llm(prompt_text)\n",
    "print(result)"
   ],
   "id": "69c0d1f633eb1367",
   "outputs": [
    {
     "data": {
      "text/plain": [
       "请给出最后一个单词的反义词，只要回答一个答案即可，回答末尾不要句号\n",
       "\n",
       "单词：开心\n",
       "反义词：难过\n",
       "\n",
       "\n",
       "\n",
       "单词：小\n",
       "反义词：大\n",
       "\n",
       "\n",
       "\n",
       "单词：亲近\n",
       "反义词：\n"
      ],
      "text/html": [
       "<pre style=\"white-space:pre;overflow-x:auto;line-height:normal;font-family:Menlo,'DejaVu Sans Mono',consolas,'Courier New',monospace\">请给出最后一个单词的反义词，只要回答一个答案即可，回答末尾不要句号\n",
       "\n",
       "单词：开心\n",
       "反义词：难过\n",
       "\n",
       "\n",
       "\n",
       "单词：小\n",
       "反义词：大\n",
       "\n",
       "\n",
       "\n",
       "单词：亲近\n",
       "反义词：\n",
       "</pre>\n"
      ]
     },
     "metadata": {},
     "output_type": "display_data"
    },
    {
     "name": "stderr",
     "output_type": "stream",
     "text": [
      "[INFO][2025-07-28 17:13:42.080] oauth.py:277 [t:15776]: trying to refresh token for ak `bNzufU***`\n",
      "[INFO][2025-07-28 17:13:42.138] oauth.py:304 [t:15776]: successfully refresh token\n"
     ]
    },
    {
     "data": {
      "text/plain": [
       "疏远。\n"
      ],
      "text/html": [
       "<pre style=\"white-space:pre;overflow-x:auto;line-height:normal;font-family:Menlo,'DejaVu Sans Mono',consolas,'Courier New',monospace\">疏远。\n",
       "</pre>\n"
      ]
     },
     "metadata": {},
     "output_type": "display_data"
    }
   ],
   "execution_count": 18
  }
 ],
 "metadata": {
  "kernelspec": {
   "display_name": "Python 3",
   "language": "python",
   "name": "python3"
  },
  "language_info": {
   "codemirror_mode": {
    "name": "ipython",
    "version": 2
   },
   "file_extension": ".py",
   "mimetype": "text/x-python",
   "name": "python",
   "nbconvert_exporter": "python",
   "pygments_lexer": "ipython2",
   "version": "2.7.6"
  }
 },
 "nbformat": 4,
 "nbformat_minor": 5
}
