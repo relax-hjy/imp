{
 "cells": [
  {
   "cell_type": "code",
   "id": "initial_id",
   "metadata": {
    "collapsed": true,
    "ExecuteTime": {
     "end_time": "2025-07-25T09:00:58.713637Z",
     "start_time": "2025-07-25T09:00:55.830887Z"
    }
   },
   "source": [
    "import os\n",
    "from langchain.llms import QianfanLLMEndpoint\n",
    "from rich import print\n",
    "# from langchain_community.llms import QianfanLLMEndpoint\n",
    "# os.environ['QIANFAN_AK']=\"bNzufU8QpNnjFoNeJJoPyMoZ\"\n",
    "# os.environ['QIANFAN_SK']='9bXb1QYdPVqxHpcBZcr7jmwxYRnjWjbV'\n",
    "\n",
    "llm=QianfanLLMEndpoint(model=\"ERNIE-3.5-8K\")\n",
    "res=llm.invoke(\"帮我讲个笑话吧\")\n",
    "print(res)\n",
    "#print(len(res))"
   ],
   "outputs": [
    {
     "name": "stderr",
     "output_type": "stream",
     "text": [
      "[INFO][2025-07-25 17:00:55.840] oauth.py:277 [t:18716]: trying to refresh token for ak `bNzufU***`\n",
      "[INFO][2025-07-25 17:00:55.908] oauth.py:304 [t:18716]: successfully refresh token\n"
     ]
    },
    {
     "data": {
      "text/plain": [
       "\u001B[1;36m83\u001B[0m\n"
      ],
      "text/html": [
       "<pre style=\"white-space:pre;overflow-x:auto;line-height:normal;font-family:Menlo,'DejaVu Sans Mono',consolas,'Courier New',monospace\"><span style=\"color: #008080; text-decoration-color: #008080; font-weight: bold\">83</span>\n",
       "</pre>\n"
      ]
     },
     "metadata": {},
     "output_type": "display_data"
    }
   ],
   "execution_count": 14
  },
  {
   "metadata": {
    "ExecuteTime": {
     "end_time": "2025-07-25T09:01:13.831488Z",
     "start_time": "2025-07-25T09:01:09.797246Z"
    }
   },
   "cell_type": "code",
   "source": [
    "from langchain_community.chat_models import QianfanChatEndpoint\n",
    "from langchain_core.messages import HumanMessage\n",
    "chat=QianfanChatEndpoint(model=\"ERNIE-3.5-8K\")\n",
    "messages=[\n",
    "    HumanMessage(content=\"帮我写一首唐诗吧\")\n",
    "]\n",
    "res=chat.invoke(messages)\n",
    "print(res)"
   ],
   "id": "ccec27dc95974e4e",
   "outputs": [
    {
     "name": "stderr",
     "output_type": "stream",
     "text": [
      "[INFO][2025-07-25 17:01:09.808] oauth.py:277 [t:18716]: trying to refresh token for ak `bNzufU***`\n",
      "[INFO][2025-07-25 17:01:09.885] oauth.py:304 [t:18716]: successfully refresh token\n"
     ]
    },
    {
     "data": {
      "text/plain": [
       "\u001B[1;35mAIMessage\u001B[0m\u001B[1m(\u001B[0m\n",
       "    \u001B[33mcontent\u001B[0m=\u001B[32m'春日观景\\n春日融融万物苏，柳丝轻拂绿波湖。\\n桃花含笑迎风舞，燕子衔泥筑爱屋。\\n远山如黛添新翠，近水含烟\u001B[0m\n",
       "\u001B[32m笼薄雾。\\n美景当前人欲醉，闲情逸致入诗图。'\u001B[0m,\n",
       "    \u001B[33madditional_kwargs\u001B[0m=\u001B[1m{\u001B[0m\n",
       "        \u001B[32m'finish_reason'\u001B[0m: \u001B[32m'normal'\u001B[0m,\n",
       "        \u001B[32m'request_id'\u001B[0m: \u001B[32m'as-xv2avybjfd'\u001B[0m,\n",
       "        \u001B[32m'object'\u001B[0m: \u001B[32m'chat.completion'\u001B[0m,\n",
       "        \u001B[32m'search_info'\u001B[0m: \u001B[1m[\u001B[0m\u001B[1m]\u001B[0m\n",
       "    \u001B[1m}\u001B[0m,\n",
       "    \u001B[33mresponse_metadata\u001B[0m=\u001B[1m{\u001B[0m\n",
       "        \u001B[32m'token_usage'\u001B[0m: \u001B[1m{\u001B[0m\u001B[32m'prompt_tokens'\u001B[0m: \u001B[1;36m5\u001B[0m, \u001B[32m'completion_tokens'\u001B[0m: \u001B[1;36m60\u001B[0m, \u001B[32m'total_tokens'\u001B[0m: \u001B[1;36m65\u001B[0m\u001B[1m}\u001B[0m,\n",
       "        \u001B[32m'model_name'\u001B[0m: \u001B[32m'ERNIE-3.5-8K'\u001B[0m,\n",
       "        \u001B[32m'finish_reason'\u001B[0m: \u001B[32m'normal'\u001B[0m,\n",
       "        \u001B[32m'id'\u001B[0m: \u001B[32m'as-xv2avybjfd'\u001B[0m,\n",
       "        \u001B[32m'object'\u001B[0m: \u001B[32m'chat.completion'\u001B[0m,\n",
       "        \u001B[32m'created'\u001B[0m: \u001B[1;36m1753434070\u001B[0m,\n",
       "        \u001B[32m'result'\u001B[0m: \n",
       "\u001B[32m'春日观景\\n春日融融万物苏，柳丝轻拂绿波湖。\\n桃花含笑迎风舞，燕子衔泥筑爱屋。\\n远山如黛添新翠，近水含烟笼薄雾。\\n美\u001B[0m\n",
       "\u001B[32m景当前人欲醉，闲情逸致入诗图。'\u001B[0m,\n",
       "        \u001B[32m'is_truncated'\u001B[0m: \u001B[3;91mFalse\u001B[0m,\n",
       "        \u001B[32m'need_clear_history'\u001B[0m: \u001B[3;91mFalse\u001B[0m,\n",
       "        \u001B[32m'usage'\u001B[0m: \u001B[1m{\u001B[0m\u001B[32m'prompt_tokens'\u001B[0m: \u001B[1;36m5\u001B[0m, \u001B[32m'completion_tokens'\u001B[0m: \u001B[1;36m60\u001B[0m, \u001B[32m'total_tokens'\u001B[0m: \u001B[1;36m65\u001B[0m\u001B[1m}\u001B[0m\n",
       "    \u001B[1m}\u001B[0m,\n",
       "    \u001B[33mid\u001B[0m=\u001B[32m'run--41c2c463-1452-4f48-ba22-7015c77e1772-0'\u001B[0m,\n",
       "    \u001B[33musage_metadata\u001B[0m=\u001B[1m{\u001B[0m\u001B[32m'input_tokens'\u001B[0m: \u001B[1;36m5\u001B[0m, \u001B[32m'output_tokens'\u001B[0m: \u001B[1;36m60\u001B[0m, \u001B[32m'total_tokens'\u001B[0m: \u001B[1;36m65\u001B[0m\u001B[1m}\u001B[0m\n",
       "\u001B[1m)\u001B[0m\n"
      ],
      "text/html": [
       "<pre style=\"white-space:pre;overflow-x:auto;line-height:normal;font-family:Menlo,'DejaVu Sans Mono',consolas,'Courier New',monospace\"><span style=\"color: #800080; text-decoration-color: #800080; font-weight: bold\">AIMessage</span><span style=\"font-weight: bold\">(</span>\n",
       "    <span style=\"color: #808000; text-decoration-color: #808000\">content</span>=<span style=\"color: #008000; text-decoration-color: #008000\">'春日观景\\n春日融融万物苏，柳丝轻拂绿波湖。\\n桃花含笑迎风舞，燕子衔泥筑爱屋。\\n远山如黛添新翠，近水含烟</span>\n",
       "<span style=\"color: #008000; text-decoration-color: #008000\">笼薄雾。\\n美景当前人欲醉，闲情逸致入诗图。'</span>,\n",
       "    <span style=\"color: #808000; text-decoration-color: #808000\">additional_kwargs</span>=<span style=\"font-weight: bold\">{</span>\n",
       "        <span style=\"color: #008000; text-decoration-color: #008000\">'finish_reason'</span>: <span style=\"color: #008000; text-decoration-color: #008000\">'normal'</span>,\n",
       "        <span style=\"color: #008000; text-decoration-color: #008000\">'request_id'</span>: <span style=\"color: #008000; text-decoration-color: #008000\">'as-xv2avybjfd'</span>,\n",
       "        <span style=\"color: #008000; text-decoration-color: #008000\">'object'</span>: <span style=\"color: #008000; text-decoration-color: #008000\">'chat.completion'</span>,\n",
       "        <span style=\"color: #008000; text-decoration-color: #008000\">'search_info'</span>: <span style=\"font-weight: bold\">[]</span>\n",
       "    <span style=\"font-weight: bold\">}</span>,\n",
       "    <span style=\"color: #808000; text-decoration-color: #808000\">response_metadata</span>=<span style=\"font-weight: bold\">{</span>\n",
       "        <span style=\"color: #008000; text-decoration-color: #008000\">'token_usage'</span>: <span style=\"font-weight: bold\">{</span><span style=\"color: #008000; text-decoration-color: #008000\">'prompt_tokens'</span>: <span style=\"color: #008080; text-decoration-color: #008080; font-weight: bold\">5</span>, <span style=\"color: #008000; text-decoration-color: #008000\">'completion_tokens'</span>: <span style=\"color: #008080; text-decoration-color: #008080; font-weight: bold\">60</span>, <span style=\"color: #008000; text-decoration-color: #008000\">'total_tokens'</span>: <span style=\"color: #008080; text-decoration-color: #008080; font-weight: bold\">65</span><span style=\"font-weight: bold\">}</span>,\n",
       "        <span style=\"color: #008000; text-decoration-color: #008000\">'model_name'</span>: <span style=\"color: #008000; text-decoration-color: #008000\">'ERNIE-3.5-8K'</span>,\n",
       "        <span style=\"color: #008000; text-decoration-color: #008000\">'finish_reason'</span>: <span style=\"color: #008000; text-decoration-color: #008000\">'normal'</span>,\n",
       "        <span style=\"color: #008000; text-decoration-color: #008000\">'id'</span>: <span style=\"color: #008000; text-decoration-color: #008000\">'as-xv2avybjfd'</span>,\n",
       "        <span style=\"color: #008000; text-decoration-color: #008000\">'object'</span>: <span style=\"color: #008000; text-decoration-color: #008000\">'chat.completion'</span>,\n",
       "        <span style=\"color: #008000; text-decoration-color: #008000\">'created'</span>: <span style=\"color: #008080; text-decoration-color: #008080; font-weight: bold\">1753434070</span>,\n",
       "        <span style=\"color: #008000; text-decoration-color: #008000\">'result'</span>: \n",
       "<span style=\"color: #008000; text-decoration-color: #008000\">'春日观景\\n春日融融万物苏，柳丝轻拂绿波湖。\\n桃花含笑迎风舞，燕子衔泥筑爱屋。\\n远山如黛添新翠，近水含烟笼薄雾。\\n美</span>\n",
       "<span style=\"color: #008000; text-decoration-color: #008000\">景当前人欲醉，闲情逸致入诗图。'</span>,\n",
       "        <span style=\"color: #008000; text-decoration-color: #008000\">'is_truncated'</span>: <span style=\"color: #ff0000; text-decoration-color: #ff0000; font-style: italic\">False</span>,\n",
       "        <span style=\"color: #008000; text-decoration-color: #008000\">'need_clear_history'</span>: <span style=\"color: #ff0000; text-decoration-color: #ff0000; font-style: italic\">False</span>,\n",
       "        <span style=\"color: #008000; text-decoration-color: #008000\">'usage'</span>: <span style=\"font-weight: bold\">{</span><span style=\"color: #008000; text-decoration-color: #008000\">'prompt_tokens'</span>: <span style=\"color: #008080; text-decoration-color: #008080; font-weight: bold\">5</span>, <span style=\"color: #008000; text-decoration-color: #008000\">'completion_tokens'</span>: <span style=\"color: #008080; text-decoration-color: #008080; font-weight: bold\">60</span>, <span style=\"color: #008000; text-decoration-color: #008000\">'total_tokens'</span>: <span style=\"color: #008080; text-decoration-color: #008080; font-weight: bold\">65</span><span style=\"font-weight: bold\">}</span>\n",
       "    <span style=\"font-weight: bold\">}</span>,\n",
       "    <span style=\"color: #808000; text-decoration-color: #808000\">id</span>=<span style=\"color: #008000; text-decoration-color: #008000\">'run--41c2c463-1452-4f48-ba22-7015c77e1772-0'</span>,\n",
       "    <span style=\"color: #808000; text-decoration-color: #808000\">usage_metadata</span>=<span style=\"font-weight: bold\">{</span><span style=\"color: #008000; text-decoration-color: #008000\">'input_tokens'</span>: <span style=\"color: #008080; text-decoration-color: #008080; font-weight: bold\">5</span>, <span style=\"color: #008000; text-decoration-color: #008000\">'output_tokens'</span>: <span style=\"color: #008080; text-decoration-color: #008080; font-weight: bold\">60</span>, <span style=\"color: #008000; text-decoration-color: #008000\">'total_tokens'</span>: <span style=\"color: #008080; text-decoration-color: #008080; font-weight: bold\">65</span><span style=\"font-weight: bold\">}</span>\n",
       "<span style=\"font-weight: bold\">)</span>\n",
       "</pre>\n"
      ]
     },
     "metadata": {},
     "output_type": "display_data"
    },
    {
     "ename": "TypeError",
     "evalue": "object of type 'AIMessage' has no len()",
     "output_type": "error",
     "traceback": [
      "\u001B[31m---------------------------------------------------------------------------\u001B[39m",
      "\u001B[31mTypeError\u001B[39m                                 Traceback (most recent call last)",
      "\u001B[36mCell\u001B[39m\u001B[36m \u001B[39m\u001B[32mIn[15]\u001B[39m\u001B[32m, line 9\u001B[39m\n\u001B[32m      7\u001B[39m res=chat.invoke(messages)\n\u001B[32m      8\u001B[39m \u001B[38;5;28mprint\u001B[39m(res)\n\u001B[32m----> \u001B[39m\u001B[32m9\u001B[39m \u001B[38;5;28mprint\u001B[39m(\u001B[38;5;28;43mlen\u001B[39;49m\u001B[43m(\u001B[49m\u001B[43mres\u001B[49m\u001B[43m)\u001B[49m)\n",
      "\u001B[31mTypeError\u001B[39m: object of type 'AIMessage' has no len()"
     ]
    }
   ],
   "execution_count": 15
  },
  {
   "metadata": {
    "ExecuteTime": {
     "end_time": "2025-07-25T09:02:15.717536Z",
     "start_time": "2025-07-25T09:02:15.405878Z"
    }
   },
   "cell_type": "code",
   "source": [
    "from langchain_community.embeddings import QianfanEmbeddingsEndpoint\n",
    "embed_model=QianfanEmbeddingsEndpoint()  # 默认模型Embedding-V1\n",
    "res=embed_model.embed_query(\"你好\")\n",
    "#print(res)\n",
    "print(len(res))"
   ],
   "id": "677bcc518f313201",
   "outputs": [
    {
     "name": "stderr",
     "output_type": "stream",
     "text": [
      "[INFO][2025-07-25 17:02:15.414] oauth.py:277 [t:18716]: trying to refresh token for ak `bNzufU***`\n",
      "[INFO][2025-07-25 17:02:15.522] oauth.py:304 [t:18716]: successfully refresh token\n"
     ]
    },
    {
     "data": {
      "text/plain": [
       "\u001B[1;36m384\u001B[0m\n"
      ],
      "text/html": [
       "<pre style=\"white-space:pre;overflow-x:auto;line-height:normal;font-family:Menlo,'DejaVu Sans Mono',consolas,'Courier New',monospace\"><span style=\"color: #008080; text-decoration-color: #008080; font-weight: bold\">384</span>\n",
       "</pre>\n"
      ]
     },
     "metadata": {},
     "output_type": "display_data"
    }
   ],
   "execution_count": 17
  }
 ],
 "metadata": {
  "kernelspec": {
   "display_name": "Python 3",
   "language": "python",
   "name": "python3"
  },
  "language_info": {
   "codemirror_mode": {
    "name": "ipython",
    "version": 2
   },
   "file_extension": ".py",
   "mimetype": "text/x-python",
   "name": "python",
   "nbconvert_exporter": "python",
   "pygments_lexer": "ipython2",
   "version": "2.7.6"
  }
 },
 "nbformat": 4,
 "nbformat_minor": 5
}
