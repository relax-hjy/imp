{
 "cells": [
  {
   "cell_type": "code",
   "id": "initial_id",
   "metadata": {
    "collapsed": true,
    "ExecuteTime": {
     "end_time": "2025-07-29T09:25:12.156891Z",
     "start_time": "2025-07-29T09:25:12.149298Z"
    }
   },
   "source": [
    "from langchain_core.prompts import PromptTemplate\n",
    "from langchain_core.prompts import FewShotPromptTemplate\n",
    "from langchain.chains import LLMChain\n",
    "from langchain.chains import SimpleSequentialChain\n",
    "from langchain_community.chat_models import QianfanChatEndpoint\n",
    "from langchain.agents import load_agent,initialize_agent,AgentType,load_tools\n",
    "from langchain.chains import ConversationChain\n",
    "import os\n",
    "from rich import print\n",
    "os.environ['QIANFAN_AK']=\"bNzufU8QpNnjFoNeJJoPyMoZ\"\n",
    "os.environ['QIANFAN_SK']='9bXb1QYdPVqxHpcBZcr7jmwxYRnjWjbV'"
   ],
   "outputs": [],
   "execution_count": 9
  },
  {
   "metadata": {
    "ExecuteTime": {
     "end_time": "2025-07-29T09:12:42.029430Z",
     "start_time": "2025-07-29T09:12:42.018538Z"
    }
   },
   "cell_type": "code",
   "source": [
    "from langchain.memory import ChatMessageHistory\n",
    "\n",
    "history = ChatMessageHistory()\n",
    "history.add_user_message(\"在吗？\")\n",
    "history.add_ai_message(\"有什么事情？\")\n",
    "print(history.messages)\n"
   ],
   "id": "efce1d5ee4f4c80a",
   "outputs": [
    {
     "data": {
      "text/plain": [
       "\u001B[1m[\u001B[0m\n",
       "    \u001B[1;35mHumanMessage\u001B[0m\u001B[1m(\u001B[0m\u001B[33mcontent\u001B[0m=\u001B[32m'在吗？'\u001B[0m, \u001B[33madditional_kwargs\u001B[0m=\u001B[1m{\u001B[0m\u001B[1m}\u001B[0m, \u001B[33mresponse_metadata\u001B[0m=\u001B[1m{\u001B[0m\u001B[1m}\u001B[0m\u001B[1m)\u001B[0m,\n",
       "    \u001B[1;35mAIMessage\u001B[0m\u001B[1m(\u001B[0m\u001B[33mcontent\u001B[0m=\u001B[32m'有什么事情？'\u001B[0m, \u001B[33madditional_kwargs\u001B[0m=\u001B[1m{\u001B[0m\u001B[1m}\u001B[0m, \u001B[33mresponse_metadata\u001B[0m=\u001B[1m{\u001B[0m\u001B[1m}\u001B[0m\u001B[1m)\u001B[0m\n",
       "\u001B[1m]\u001B[0m\n"
      ],
      "text/html": [
       "<pre style=\"white-space:pre;overflow-x:auto;line-height:normal;font-family:Menlo,'DejaVu Sans Mono',consolas,'Courier New',monospace\"><span style=\"font-weight: bold\">[</span>\n",
       "    <span style=\"color: #800080; text-decoration-color: #800080; font-weight: bold\">HumanMessage</span><span style=\"font-weight: bold\">(</span><span style=\"color: #808000; text-decoration-color: #808000\">content</span>=<span style=\"color: #008000; text-decoration-color: #008000\">'在吗？'</span>, <span style=\"color: #808000; text-decoration-color: #808000\">additional_kwargs</span>=<span style=\"font-weight: bold\">{}</span>, <span style=\"color: #808000; text-decoration-color: #808000\">response_metadata</span>=<span style=\"font-weight: bold\">{})</span>,\n",
       "    <span style=\"color: #800080; text-decoration-color: #800080; font-weight: bold\">AIMessage</span><span style=\"font-weight: bold\">(</span><span style=\"color: #808000; text-decoration-color: #808000\">content</span>=<span style=\"color: #008000; text-decoration-color: #008000\">'有什么事情？'</span>, <span style=\"color: #808000; text-decoration-color: #808000\">additional_kwargs</span>=<span style=\"font-weight: bold\">{}</span>, <span style=\"color: #808000; text-decoration-color: #808000\">response_metadata</span>=<span style=\"font-weight: bold\">{})</span>\n",
       "<span style=\"font-weight: bold\">]</span>\n",
       "</pre>\n"
      ]
     },
     "metadata": {},
     "output_type": "display_data"
    }
   ],
   "execution_count": 3
  },
  {
   "metadata": {
    "ExecuteTime": {
     "end_time": "2025-07-29T09:26:03.991997Z",
     "start_time": "2025-07-29T09:25:48.931948Z"
    }
   },
   "cell_type": "code",
   "source": [
    "llm=QianfanChatEndpoint(model=\"ERNIE-3.5-8K\")\n",
    "conversation=ConversationChain(llm=llm)\n",
    "result1=conversation.predict(input=\"小明有1只猫\")\n",
    "print(result1)\n",
    "result2=conversation.predict(input=\"小刚有2只狗\")\n",
    "print(result2)\n",
    "result3=conversation.predict(input=\"小明和小刚一共有几只宠物\")\n",
    "print(result3)"
   ],
   "id": "350a7167d02845b",
   "outputs": [
    {
     "name": "stderr",
     "output_type": "stream",
     "text": [
      "[INFO][2025-07-29 17:25:48.944] oauth.py:277 [t:20044]: trying to refresh token for ak `bNzufU***`\n",
      "[INFO][2025-07-29 17:25:49.401] oauth.py:304 [t:20044]: successfully refresh token\n"
     ]
    },
    {
     "data": {
      "text/plain": [
       "哇，小明有一只猫啊！那一定很有趣呢！猫咪总是那么可爱，它们会用自己的小爪子玩耍，还会发出喵喵的叫声，真是让人忍不住\n",
       "想摸一摸它们柔软的毛发。不知道小明的猫咪是什么颜色的呢？是不是那种雪白的，或者是橘黄色的？不管是什么颜色，有猫咪陪\n",
       "伴的生活一定很充实和快乐！\n"
      ],
      "text/html": [
       "<pre style=\"white-space:pre;overflow-x:auto;line-height:normal;font-family:Menlo,'DejaVu Sans Mono',consolas,'Courier New',monospace\">哇，小明有一只猫啊！那一定很有趣呢！猫咪总是那么可爱，它们会用自己的小爪子玩耍，还会发出喵喵的叫声，真是让人忍不住\n",
       "想摸一摸它们柔软的毛发。不知道小明的猫咪是什么颜色的呢？是不是那种雪白的，或者是橘黄色的？不管是什么颜色，有猫咪陪\n",
       "伴的生活一定很充实和快乐！\n",
       "</pre>\n"
      ]
     },
     "metadata": {},
     "output_type": "display_data"
    },
    {
     "data": {
      "text/plain": [
       "小刚有两只狗啊！那一定很热闹呢！狗狗们总是那么活泼，它们会摇着尾巴欢迎你回家，还会跟你玩捉迷藏的游戏。两只狗狗在一\n",
       "起玩耍的时候一定很有趣，它们可能会互相追逐，或者一起咬一个玩具。不知道小刚的狗狗是什么品种的？是金毛、拉布拉多还是\n",
       "其他品种呢？有两只狗狗陪伴的生活一定充满了欢笑和活力！\n"
      ],
      "text/html": [
       "<pre style=\"white-space:pre;overflow-x:auto;line-height:normal;font-family:Menlo,'DejaVu Sans Mono',consolas,'Courier New',monospace\">小刚有两只狗啊！那一定很热闹呢！狗狗们总是那么活泼，它们会摇着尾巴欢迎你回家，还会跟你玩捉迷藏的游戏。两只狗狗在一\n",
       "起玩耍的时候一定很有趣，它们可能会互相追逐，或者一起咬一个玩具。不知道小刚的狗狗是什么品种的？是金毛、拉布拉多还是\n",
       "其他品种呢？有两只狗狗陪伴的生活一定充满了欢笑和活力！\n",
       "</pre>\n"
      ]
     },
     "metadata": {},
     "output_type": "display_data"
    },
    {
     "data": {
      "text/plain": [
       "这个问题很有趣呢！让我来算一下，小明有1只猫，小刚有2只狗，所以他们一共有1+\u001B[1;36m2\u001B[0m=\u001B[35m3只宠物\u001B[0m。想想看，小明的小猫可能会和小刚\n",
       "的狗狗成为好朋友呢，它们一起玩耍的样子一定很可爱！\n"
      ],
      "text/html": [
       "<pre style=\"white-space:pre;overflow-x:auto;line-height:normal;font-family:Menlo,'DejaVu Sans Mono',consolas,'Courier New',monospace\">这个问题很有趣呢！让我来算一下，小明有1只猫，小刚有2只狗，所以他们一共有1+<span style=\"color: #008080; text-decoration-color: #008080; font-weight: bold\">2</span>=<span style=\"color: #800080; text-decoration-color: #800080\">3只宠物</span>。想想看，小明的小猫可能会和小刚\n",
       "的狗狗成为好朋友呢，它们一起玩耍的样子一定很可爱！\n",
       "</pre>\n"
      ]
     },
     "metadata": {},
     "output_type": "display_data"
    }
   ],
   "execution_count": 11
  },
  {
   "metadata": {
    "ExecuteTime": {
     "end_time": "2025-07-29T09:30:27.295214Z",
     "start_time": "2025-07-29T09:30:27.272021Z"
    }
   },
   "cell_type": "code",
   "source": [
    "from langchain.memory import ChatMessageHistory\n",
    "from langchain.schema import messages_to_dict,messages_from_dict\n",
    "history=ChatMessageHistory()\n",
    "history.add_ai_message(\"你好？\")\n",
    "history.add_user_message(\"你叫什么名字？\")\n",
    "\n",
    "dicts=messages_to_dict(history.messages)\n",
    "\n",
    "print(dicts)\n",
    "\n",
    "new_messages=messages_from_dict(dicts)\n",
    "print(new_messages)\n"
   ],
   "id": "b040b4036bad816b",
   "outputs": [
    {
     "data": {
      "text/plain": [
       "\u001B[1m[\u001B[0m\n",
       "    \u001B[1m{\u001B[0m\n",
       "        \u001B[32m'type'\u001B[0m: \u001B[32m'ai'\u001B[0m,\n",
       "        \u001B[32m'data'\u001B[0m: \u001B[1m{\u001B[0m\n",
       "            \u001B[32m'content'\u001B[0m: \u001B[32m'你好？'\u001B[0m,\n",
       "            \u001B[32m'additional_kwargs'\u001B[0m: \u001B[1m{\u001B[0m\u001B[1m}\u001B[0m,\n",
       "            \u001B[32m'response_metadata'\u001B[0m: \u001B[1m{\u001B[0m\u001B[1m}\u001B[0m,\n",
       "            \u001B[32m'type'\u001B[0m: \u001B[32m'ai'\u001B[0m,\n",
       "            \u001B[32m'name'\u001B[0m: \u001B[3;35mNone\u001B[0m,\n",
       "            \u001B[32m'id'\u001B[0m: \u001B[3;35mNone\u001B[0m,\n",
       "            \u001B[32m'example'\u001B[0m: \u001B[3;91mFalse\u001B[0m,\n",
       "            \u001B[32m'tool_calls'\u001B[0m: \u001B[1m[\u001B[0m\u001B[1m]\u001B[0m,\n",
       "            \u001B[32m'invalid_tool_calls'\u001B[0m: \u001B[1m[\u001B[0m\u001B[1m]\u001B[0m,\n",
       "            \u001B[32m'usage_metadata'\u001B[0m: \u001B[3;35mNone\u001B[0m\n",
       "        \u001B[1m}\u001B[0m\n",
       "    \u001B[1m}\u001B[0m,\n",
       "    \u001B[1m{\u001B[0m\n",
       "        \u001B[32m'type'\u001B[0m: \u001B[32m'human'\u001B[0m,\n",
       "        \u001B[32m'data'\u001B[0m: \u001B[1m{\u001B[0m\n",
       "            \u001B[32m'content'\u001B[0m: \u001B[32m'你叫什么名字？'\u001B[0m,\n",
       "            \u001B[32m'additional_kwargs'\u001B[0m: \u001B[1m{\u001B[0m\u001B[1m}\u001B[0m,\n",
       "            \u001B[32m'response_metadata'\u001B[0m: \u001B[1m{\u001B[0m\u001B[1m}\u001B[0m,\n",
       "            \u001B[32m'type'\u001B[0m: \u001B[32m'human'\u001B[0m,\n",
       "            \u001B[32m'name'\u001B[0m: \u001B[3;35mNone\u001B[0m,\n",
       "            \u001B[32m'id'\u001B[0m: \u001B[3;35mNone\u001B[0m,\n",
       "            \u001B[32m'example'\u001B[0m: \u001B[3;91mFalse\u001B[0m\n",
       "        \u001B[1m}\u001B[0m\n",
       "    \u001B[1m}\u001B[0m\n",
       "\u001B[1m]\u001B[0m\n"
      ],
      "text/html": [
       "<pre style=\"white-space:pre;overflow-x:auto;line-height:normal;font-family:Menlo,'DejaVu Sans Mono',consolas,'Courier New',monospace\"><span style=\"font-weight: bold\">[</span>\n",
       "    <span style=\"font-weight: bold\">{</span>\n",
       "        <span style=\"color: #008000; text-decoration-color: #008000\">'type'</span>: <span style=\"color: #008000; text-decoration-color: #008000\">'ai'</span>,\n",
       "        <span style=\"color: #008000; text-decoration-color: #008000\">'data'</span>: <span style=\"font-weight: bold\">{</span>\n",
       "            <span style=\"color: #008000; text-decoration-color: #008000\">'content'</span>: <span style=\"color: #008000; text-decoration-color: #008000\">'你好？'</span>,\n",
       "            <span style=\"color: #008000; text-decoration-color: #008000\">'additional_kwargs'</span>: <span style=\"font-weight: bold\">{}</span>,\n",
       "            <span style=\"color: #008000; text-decoration-color: #008000\">'response_metadata'</span>: <span style=\"font-weight: bold\">{}</span>,\n",
       "            <span style=\"color: #008000; text-decoration-color: #008000\">'type'</span>: <span style=\"color: #008000; text-decoration-color: #008000\">'ai'</span>,\n",
       "            <span style=\"color: #008000; text-decoration-color: #008000\">'name'</span>: <span style=\"color: #800080; text-decoration-color: #800080; font-style: italic\">None</span>,\n",
       "            <span style=\"color: #008000; text-decoration-color: #008000\">'id'</span>: <span style=\"color: #800080; text-decoration-color: #800080; font-style: italic\">None</span>,\n",
       "            <span style=\"color: #008000; text-decoration-color: #008000\">'example'</span>: <span style=\"color: #ff0000; text-decoration-color: #ff0000; font-style: italic\">False</span>,\n",
       "            <span style=\"color: #008000; text-decoration-color: #008000\">'tool_calls'</span>: <span style=\"font-weight: bold\">[]</span>,\n",
       "            <span style=\"color: #008000; text-decoration-color: #008000\">'invalid_tool_calls'</span>: <span style=\"font-weight: bold\">[]</span>,\n",
       "            <span style=\"color: #008000; text-decoration-color: #008000\">'usage_metadata'</span>: <span style=\"color: #800080; text-decoration-color: #800080; font-style: italic\">None</span>\n",
       "        <span style=\"font-weight: bold\">}</span>\n",
       "    <span style=\"font-weight: bold\">}</span>,\n",
       "    <span style=\"font-weight: bold\">{</span>\n",
       "        <span style=\"color: #008000; text-decoration-color: #008000\">'type'</span>: <span style=\"color: #008000; text-decoration-color: #008000\">'human'</span>,\n",
       "        <span style=\"color: #008000; text-decoration-color: #008000\">'data'</span>: <span style=\"font-weight: bold\">{</span>\n",
       "            <span style=\"color: #008000; text-decoration-color: #008000\">'content'</span>: <span style=\"color: #008000; text-decoration-color: #008000\">'你叫什么名字？'</span>,\n",
       "            <span style=\"color: #008000; text-decoration-color: #008000\">'additional_kwargs'</span>: <span style=\"font-weight: bold\">{}</span>,\n",
       "            <span style=\"color: #008000; text-decoration-color: #008000\">'response_metadata'</span>: <span style=\"font-weight: bold\">{}</span>,\n",
       "            <span style=\"color: #008000; text-decoration-color: #008000\">'type'</span>: <span style=\"color: #008000; text-decoration-color: #008000\">'human'</span>,\n",
       "            <span style=\"color: #008000; text-decoration-color: #008000\">'name'</span>: <span style=\"color: #800080; text-decoration-color: #800080; font-style: italic\">None</span>,\n",
       "            <span style=\"color: #008000; text-decoration-color: #008000\">'id'</span>: <span style=\"color: #800080; text-decoration-color: #800080; font-style: italic\">None</span>,\n",
       "            <span style=\"color: #008000; text-decoration-color: #008000\">'example'</span>: <span style=\"color: #ff0000; text-decoration-color: #ff0000; font-style: italic\">False</span>\n",
       "        <span style=\"font-weight: bold\">}</span>\n",
       "    <span style=\"font-weight: bold\">}</span>\n",
       "<span style=\"font-weight: bold\">]</span>\n",
       "</pre>\n"
      ]
     },
     "metadata": {},
     "output_type": "display_data"
    },
    {
     "data": {
      "text/plain": [
       "\u001B[1m[\u001B[0m\n",
       "    \u001B[1;35mAIMessage\u001B[0m\u001B[1m(\u001B[0m\u001B[33mcontent\u001B[0m=\u001B[32m'你好？'\u001B[0m, \u001B[33madditional_kwargs\u001B[0m=\u001B[1m{\u001B[0m\u001B[1m}\u001B[0m, \u001B[33mresponse_metadata\u001B[0m=\u001B[1m{\u001B[0m\u001B[1m}\u001B[0m\u001B[1m)\u001B[0m,\n",
       "    \u001B[1;35mHumanMessage\u001B[0m\u001B[1m(\u001B[0m\u001B[33mcontent\u001B[0m=\u001B[32m'你叫什么名字？'\u001B[0m, \u001B[33madditional_kwargs\u001B[0m=\u001B[1m{\u001B[0m\u001B[1m}\u001B[0m, \u001B[33mresponse_metadata\u001B[0m=\u001B[1m{\u001B[0m\u001B[1m}\u001B[0m\u001B[1m)\u001B[0m\n",
       "\u001B[1m]\u001B[0m\n"
      ],
      "text/html": [
       "<pre style=\"white-space:pre;overflow-x:auto;line-height:normal;font-family:Menlo,'DejaVu Sans Mono',consolas,'Courier New',monospace\"><span style=\"font-weight: bold\">[</span>\n",
       "    <span style=\"color: #800080; text-decoration-color: #800080; font-weight: bold\">AIMessage</span><span style=\"font-weight: bold\">(</span><span style=\"color: #808000; text-decoration-color: #808000\">content</span>=<span style=\"color: #008000; text-decoration-color: #008000\">'你好？'</span>, <span style=\"color: #808000; text-decoration-color: #808000\">additional_kwargs</span>=<span style=\"font-weight: bold\">{}</span>, <span style=\"color: #808000; text-decoration-color: #808000\">response_metadata</span>=<span style=\"font-weight: bold\">{})</span>,\n",
       "    <span style=\"color: #800080; text-decoration-color: #800080; font-weight: bold\">HumanMessage</span><span style=\"font-weight: bold\">(</span><span style=\"color: #808000; text-decoration-color: #808000\">content</span>=<span style=\"color: #008000; text-decoration-color: #008000\">'你叫什么名字？'</span>, <span style=\"color: #808000; text-decoration-color: #808000\">additional_kwargs</span>=<span style=\"font-weight: bold\">{}</span>, <span style=\"color: #808000; text-decoration-color: #808000\">response_metadata</span>=<span style=\"font-weight: bold\">{})</span>\n",
       "<span style=\"font-weight: bold\">]</span>\n",
       "</pre>\n"
      ]
     },
     "metadata": {},
     "output_type": "display_data"
    }
   ],
   "execution_count": 12
  }
 ],
 "metadata": {
  "kernelspec": {
   "display_name": "Python 3",
   "language": "python",
   "name": "python3"
  },
  "language_info": {
   "codemirror_mode": {
    "name": "ipython",
    "version": 2
   },
   "file_extension": ".py",
   "mimetype": "text/x-python",
   "name": "python",
   "nbconvert_exporter": "python",
   "pygments_lexer": "ipython2",
   "version": "2.7.6"
  }
 },
 "nbformat": 4,
 "nbformat_minor": 5
}
