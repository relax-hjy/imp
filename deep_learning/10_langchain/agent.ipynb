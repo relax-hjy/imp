{
 "cells": [
  {
   "cell_type": "code",
   "id": "initial_id",
   "metadata": {
    "collapsed": true,
    "ExecuteTime": {
     "end_time": "2025-07-29T08:12:18.891942Z",
     "start_time": "2025-07-29T08:12:18.882929Z"
    }
   },
   "source": [
    "from langchain_core.prompts import PromptTemplate\n",
    "from langchain_core.prompts import FewShotPromptTemplate\n",
    "from langchain.chains import LLMChain\n",
    "from langchain.chains import SimpleSequentialChain\n",
    "from langchain_community.llms import QianfanLLMEndpoint\n",
    "from langchain.agents import load_agent,initialize_agent,AgentType,load_tools\n",
    "\n",
    "import os\n",
    "from rich import print\n",
    "os.environ['QIANFAN_AK']=\"bNzufU8QpNnjFoNeJJoPyMoZ\"\n",
    "os.environ['QIANFAN_SK']='9bXb1QYdPVqxHpcBZcr7jmwxYRnjWjbV'"
   ],
   "outputs": [],
   "execution_count": 5
  },
  {
   "metadata": {
    "ExecuteTime": {
     "end_time": "2025-07-29T08:14:08.023832Z",
     "start_time": "2025-07-29T08:13:53.070920Z"
    }
   },
   "cell_type": "code",
   "source": [
    "llm=QianfanLLMEndpoint(model_name=\"Qianfan-Chinese-Llama-2-7B\")\n",
    "\n",
    "#tools=load_tools([\"llm-math\",\"wikipedia\"],llm=llm)\n",
    "tools=load_tools([\"llm-math\"],llm=llm)\n",
    "\n",
    "agent=initialize_agent(tools,llm,agent=AgentType.ZERO_SHOT_REACT_DESCRIPTION,verbose=True)\n",
    "\n",
    "prompt_template=\"\"\"中国目前有多少人口\"\"\"\n",
    "prompt=PromptTemplate.from_template(prompt_template)\n",
    "print(prompt)\n",
    "print(agent.run(prompt))"
   ],
   "id": "578dcacab832a15e",
   "outputs": [
    {
     "data": {
      "text/plain": [
       "\u001B[1;35mPromptTemplate\u001B[0m\u001B[1m(\u001B[0m\u001B[33minput_variables\u001B[0m=\u001B[1m[\u001B[0m\u001B[1m]\u001B[0m, \u001B[33minput_types\u001B[0m=\u001B[1m{\u001B[0m\u001B[1m}\u001B[0m, \u001B[33mpartial_variables\u001B[0m=\u001B[1m{\u001B[0m\u001B[1m}\u001B[0m, \u001B[33mtemplate\u001B[0m=\u001B[32m'中国目前有多少人口'\u001B[0m\u001B[1m)\u001B[0m\n"
      ],
      "text/html": [
       "<pre style=\"white-space:pre;overflow-x:auto;line-height:normal;font-family:Menlo,'DejaVu Sans Mono',consolas,'Courier New',monospace\"><span style=\"color: #800080; text-decoration-color: #800080; font-weight: bold\">PromptTemplate</span><span style=\"font-weight: bold\">(</span><span style=\"color: #808000; text-decoration-color: #808000\">input_variables</span>=<span style=\"font-weight: bold\">[]</span>, <span style=\"color: #808000; text-decoration-color: #808000\">input_types</span>=<span style=\"font-weight: bold\">{}</span>, <span style=\"color: #808000; text-decoration-color: #808000\">partial_variables</span>=<span style=\"font-weight: bold\">{}</span>, <span style=\"color: #808000; text-decoration-color: #808000\">template</span>=<span style=\"color: #008000; text-decoration-color: #008000\">'中国目前有多少人口'</span><span style=\"font-weight: bold\">)</span>\n",
       "</pre>\n"
      ]
     },
     "metadata": {},
     "output_type": "display_data"
    },
    {
     "name": "stderr",
     "output_type": "stream",
     "text": [
      "[INFO][2025-07-29 16:13:53.093] oauth.py:277 [t:21964]: trying to refresh token for ak `bNzufU***`\n",
      "[INFO][2025-07-29 16:13:53.236] oauth.py:304 [t:21964]: successfully refresh token\n"
     ]
    },
    {
     "name": "stdout",
     "output_type": "stream",
     "text": [
      "\n",
      "\n",
      "\u001B[1m> Entering new AgentExecutor chain...\u001B[0m\n",
      "\u001B[32;1m\u001B[1;3mThought: 为了回答这个问题，我需要使用计算器来处理相关的数学计算或者查找相关的数据。但在这个场景下，由于问题不是一个数学问题或者需要直接进行数学计算的问题，我可以选择不使用计算器。然而，如果我需要从已有的数据中查询“中国目前有多少人口”这个信息，我可以利用提供的其他变量来帮助我进行这个查询。\n",
      "\n",
      "Action: 不使用计算器\n",
      "\n",
      "Action Input: 无\n",
      "\u001B[0m\n",
      "Observation: 不使用计算器 is not a valid tool, try one of [Calculator].\n",
      "Thought:\u001B[32;1m\u001B[1;3mThought: 明白您的意思了，由于这个问题是询问具体的人口数据，这种数据通常不是通过数学计算得到的，而是需要通过查找相关的统计数据或者官方发布的数据来获取。因此，在这个场景下，我应该寻找其他工具或者资源来获取这个信息，而不是使用计算器。\n",
      "\n",
      "Action: 寻找人口数据资源\n",
      "\n",
      "Action Input: 搜索“中国目前人口数量”的相关统计数据或官方发布的数据。\n",
      "\u001B[0m\n",
      "Observation: 寻找人口数据资源 is not a valid tool, try one of [Calculator].\n",
      "Thought:\u001B[32;1m\u001B[1;3mThought: 了解到您的意思了，我明白这个问题需要查找具体的人口数据。然而，我并没有直接获取到最新的人口数据资源。在这种情况下，我可以尝试使用搜索引擎来查找相关的官方统计数据或者政府发布的报告。\n",
      "\n",
      "Action: 使用搜索引擎查找人口数据\n",
      "\n",
      "Action Input: 在搜索引擎中使用关键词“中国目前人口数量 官方统计数据”或“中国人口普查结果”等来查找相关信息。\n",
      "\u001B[0m\n",
      "Observation: 使用搜索引擎查找人口数据 is not a valid tool, try one of [Calculator].\n",
      "Thought:\u001B[32;1m\u001B[1;3m根据以上情况，我明白这个问题需要查找中国目前的人口数据。然而，由于我无法直接获取到官方统计数据或政府发布的报告，我也不能使用计算器或其他直接的工具来回答这个问题。在这种情况下，我建议使用搜索引擎来查找相关的官方统计数据或政府发布的报告。在搜索引擎中使用类似的关键词，如“中国目前人口数量 官方统计数据”或“中国人口普查结果”等，可以帮助您找到最新的官方数据和相关信息，从而回答这个问题。\n",
      "\n",
      "Final Answer: 很抱歉，由于我无法直接获取到官方统计数据或政府发布的报告，因此无法直接回答“中国目前有多少人口”这个问题。建议您使用搜索引擎来查找相关的官方统计数据或政府发布的报告，以获取最新的中国人口数据。\u001B[0m\n",
      "\n",
      "\u001B[1m> Finished chain.\u001B[0m\n"
     ]
    },
    {
     "data": {
      "text/plain": [
       "很抱歉，由于我无法直接获取到官方统计数据或政府发布的报告，因此无法直接回答“中国目前有多少人口”这个问题。建议您使用\n",
       "搜索引擎来查找相关的官方统计数据或政府发布的报告，以获取最新的中国人口数据。\n"
      ],
      "text/html": [
       "<pre style=\"white-space:pre;overflow-x:auto;line-height:normal;font-family:Menlo,'DejaVu Sans Mono',consolas,'Courier New',monospace\">很抱歉，由于我无法直接获取到官方统计数据或政府发布的报告，因此无法直接回答“中国目前有多少人口”这个问题。建议您使用\n",
       "搜索引擎来查找相关的官方统计数据或政府发布的报告，以获取最新的中国人口数据。\n",
       "</pre>\n"
      ]
     },
     "metadata": {},
     "output_type": "display_data"
    }
   ],
   "execution_count": 7
  },
  {
   "metadata": {
    "ExecuteTime": {
     "end_time": "2025-07-28T09:56:52.022360Z",
     "start_time": "2025-07-28T09:56:52.005154Z"
    }
   },
   "cell_type": "code",
   "source": [
    "from langchain.agents import get_all_tool_names\n",
    "print(get_all_tool_names())"
   ],
   "id": "c499a2e5fa7e6a1c",
   "outputs": [
    {
     "data": {
      "text/plain": [
       "\u001B[1m[\u001B[0m\n",
       "    \u001B[32m'sleep'\u001B[0m,\n",
       "    \u001B[32m'wolfram-alpha'\u001B[0m,\n",
       "    \u001B[32m'google-search'\u001B[0m,\n",
       "    \u001B[32m'google-search-results-json'\u001B[0m,\n",
       "    \u001B[32m'searx-search-results-json'\u001B[0m,\n",
       "    \u001B[32m'bing-search'\u001B[0m,\n",
       "    \u001B[32m'metaphor-search'\u001B[0m,\n",
       "    \u001B[32m'ddg-search'\u001B[0m,\n",
       "    \u001B[32m'google-books'\u001B[0m,\n",
       "    \u001B[32m'google-lens'\u001B[0m,\n",
       "    \u001B[32m'google-serper'\u001B[0m,\n",
       "    \u001B[32m'google-scholar'\u001B[0m,\n",
       "    \u001B[32m'google-finance'\u001B[0m,\n",
       "    \u001B[32m'google-trends'\u001B[0m,\n",
       "    \u001B[32m'google-jobs'\u001B[0m,\n",
       "    \u001B[32m'google-serper-results-json'\u001B[0m,\n",
       "    \u001B[32m'searchapi'\u001B[0m,\n",
       "    \u001B[32m'searchapi-results-json'\u001B[0m,\n",
       "    \u001B[32m'serpapi'\u001B[0m,\n",
       "    \u001B[32m'dalle-image-generator'\u001B[0m,\n",
       "    \u001B[32m'twilio'\u001B[0m,\n",
       "    \u001B[32m'searx-search'\u001B[0m,\n",
       "    \u001B[32m'merriam-webster'\u001B[0m,\n",
       "    \u001B[32m'wikipedia'\u001B[0m,\n",
       "    \u001B[32m'arxiv'\u001B[0m,\n",
       "    \u001B[32m'golden-query'\u001B[0m,\n",
       "    \u001B[32m'pubmed'\u001B[0m,\n",
       "    \u001B[32m'human'\u001B[0m,\n",
       "    \u001B[32m'awslambda'\u001B[0m,\n",
       "    \u001B[32m'stackexchange'\u001B[0m,\n",
       "    \u001B[32m'sceneXplain'\u001B[0m,\n",
       "    \u001B[32m'graphql'\u001B[0m,\n",
       "    \u001B[32m'openweathermap-api'\u001B[0m,\n",
       "    \u001B[32m'dataforseo-api-search'\u001B[0m,\n",
       "    \u001B[32m'dataforseo-api-search-json'\u001B[0m,\n",
       "    \u001B[32m'eleven_labs_text2speech'\u001B[0m,\n",
       "    \u001B[32m'google_cloud_texttospeech'\u001B[0m,\n",
       "    \u001B[32m'read_file'\u001B[0m,\n",
       "    \u001B[32m'reddit_search'\u001B[0m,\n",
       "    \u001B[32m'news-api'\u001B[0m,\n",
       "    \u001B[32m'tmdb-api'\u001B[0m,\n",
       "    \u001B[32m'podcast-api'\u001B[0m,\n",
       "    \u001B[32m'memorize'\u001B[0m,\n",
       "    \u001B[32m'llm-math'\u001B[0m,\n",
       "    \u001B[32m'open-meteo-api'\u001B[0m,\n",
       "    \u001B[32m'requests'\u001B[0m,\n",
       "    \u001B[32m'requests_get'\u001B[0m,\n",
       "    \u001B[32m'requests_post'\u001B[0m,\n",
       "    \u001B[32m'requests_patch'\u001B[0m,\n",
       "    \u001B[32m'requests_put'\u001B[0m,\n",
       "    \u001B[32m'requests_delete'\u001B[0m,\n",
       "    \u001B[32m'terminal'\u001B[0m\n",
       "\u001B[1m]\u001B[0m\n"
      ],
      "text/html": [
       "<pre style=\"white-space:pre;overflow-x:auto;line-height:normal;font-family:Menlo,'DejaVu Sans Mono',consolas,'Courier New',monospace\"><span style=\"font-weight: bold\">[</span>\n",
       "    <span style=\"color: #008000; text-decoration-color: #008000\">'sleep'</span>,\n",
       "    <span style=\"color: #008000; text-decoration-color: #008000\">'wolfram-alpha'</span>,\n",
       "    <span style=\"color: #008000; text-decoration-color: #008000\">'google-search'</span>,\n",
       "    <span style=\"color: #008000; text-decoration-color: #008000\">'google-search-results-json'</span>,\n",
       "    <span style=\"color: #008000; text-decoration-color: #008000\">'searx-search-results-json'</span>,\n",
       "    <span style=\"color: #008000; text-decoration-color: #008000\">'bing-search'</span>,\n",
       "    <span style=\"color: #008000; text-decoration-color: #008000\">'metaphor-search'</span>,\n",
       "    <span style=\"color: #008000; text-decoration-color: #008000\">'ddg-search'</span>,\n",
       "    <span style=\"color: #008000; text-decoration-color: #008000\">'google-books'</span>,\n",
       "    <span style=\"color: #008000; text-decoration-color: #008000\">'google-lens'</span>,\n",
       "    <span style=\"color: #008000; text-decoration-color: #008000\">'google-serper'</span>,\n",
       "    <span style=\"color: #008000; text-decoration-color: #008000\">'google-scholar'</span>,\n",
       "    <span style=\"color: #008000; text-decoration-color: #008000\">'google-finance'</span>,\n",
       "    <span style=\"color: #008000; text-decoration-color: #008000\">'google-trends'</span>,\n",
       "    <span style=\"color: #008000; text-decoration-color: #008000\">'google-jobs'</span>,\n",
       "    <span style=\"color: #008000; text-decoration-color: #008000\">'google-serper-results-json'</span>,\n",
       "    <span style=\"color: #008000; text-decoration-color: #008000\">'searchapi'</span>,\n",
       "    <span style=\"color: #008000; text-decoration-color: #008000\">'searchapi-results-json'</span>,\n",
       "    <span style=\"color: #008000; text-decoration-color: #008000\">'serpapi'</span>,\n",
       "    <span style=\"color: #008000; text-decoration-color: #008000\">'dalle-image-generator'</span>,\n",
       "    <span style=\"color: #008000; text-decoration-color: #008000\">'twilio'</span>,\n",
       "    <span style=\"color: #008000; text-decoration-color: #008000\">'searx-search'</span>,\n",
       "    <span style=\"color: #008000; text-decoration-color: #008000\">'merriam-webster'</span>,\n",
       "    <span style=\"color: #008000; text-decoration-color: #008000\">'wikipedia'</span>,\n",
       "    <span style=\"color: #008000; text-decoration-color: #008000\">'arxiv'</span>,\n",
       "    <span style=\"color: #008000; text-decoration-color: #008000\">'golden-query'</span>,\n",
       "    <span style=\"color: #008000; text-decoration-color: #008000\">'pubmed'</span>,\n",
       "    <span style=\"color: #008000; text-decoration-color: #008000\">'human'</span>,\n",
       "    <span style=\"color: #008000; text-decoration-color: #008000\">'awslambda'</span>,\n",
       "    <span style=\"color: #008000; text-decoration-color: #008000\">'stackexchange'</span>,\n",
       "    <span style=\"color: #008000; text-decoration-color: #008000\">'sceneXplain'</span>,\n",
       "    <span style=\"color: #008000; text-decoration-color: #008000\">'graphql'</span>,\n",
       "    <span style=\"color: #008000; text-decoration-color: #008000\">'openweathermap-api'</span>,\n",
       "    <span style=\"color: #008000; text-decoration-color: #008000\">'dataforseo-api-search'</span>,\n",
       "    <span style=\"color: #008000; text-decoration-color: #008000\">'dataforseo-api-search-json'</span>,\n",
       "    <span style=\"color: #008000; text-decoration-color: #008000\">'eleven_labs_text2speech'</span>,\n",
       "    <span style=\"color: #008000; text-decoration-color: #008000\">'google_cloud_texttospeech'</span>,\n",
       "    <span style=\"color: #008000; text-decoration-color: #008000\">'read_file'</span>,\n",
       "    <span style=\"color: #008000; text-decoration-color: #008000\">'reddit_search'</span>,\n",
       "    <span style=\"color: #008000; text-decoration-color: #008000\">'news-api'</span>,\n",
       "    <span style=\"color: #008000; text-decoration-color: #008000\">'tmdb-api'</span>,\n",
       "    <span style=\"color: #008000; text-decoration-color: #008000\">'podcast-api'</span>,\n",
       "    <span style=\"color: #008000; text-decoration-color: #008000\">'memorize'</span>,\n",
       "    <span style=\"color: #008000; text-decoration-color: #008000\">'llm-math'</span>,\n",
       "    <span style=\"color: #008000; text-decoration-color: #008000\">'open-meteo-api'</span>,\n",
       "    <span style=\"color: #008000; text-decoration-color: #008000\">'requests'</span>,\n",
       "    <span style=\"color: #008000; text-decoration-color: #008000\">'requests_get'</span>,\n",
       "    <span style=\"color: #008000; text-decoration-color: #008000\">'requests_post'</span>,\n",
       "    <span style=\"color: #008000; text-decoration-color: #008000\">'requests_patch'</span>,\n",
       "    <span style=\"color: #008000; text-decoration-color: #008000\">'requests_put'</span>,\n",
       "    <span style=\"color: #008000; text-decoration-color: #008000\">'requests_delete'</span>,\n",
       "    <span style=\"color: #008000; text-decoration-color: #008000\">'terminal'</span>\n",
       "<span style=\"font-weight: bold\">]</span>\n",
       "</pre>\n"
      ]
     },
     "metadata": {},
     "output_type": "display_data"
    }
   ],
   "execution_count": 7
  }
 ],
 "metadata": {
  "kernelspec": {
   "display_name": "Python 3",
   "language": "python",
   "name": "python3"
  },
  "language_info": {
   "codemirror_mode": {
    "name": "ipython",
    "version": 2
   },
   "file_extension": ".py",
   "mimetype": "text/x-python",
   "name": "python",
   "nbconvert_exporter": "python",
   "pygments_lexer": "ipython2",
   "version": "2.7.6"
  }
 },
 "nbformat": 4,
 "nbformat_minor": 5
}
