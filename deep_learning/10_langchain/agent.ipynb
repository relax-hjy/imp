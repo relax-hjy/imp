{
 "cells": [
  {
   "cell_type": "code",
   "id": "initial_id",
   "metadata": {
    "collapsed": true,
    "ExecuteTime": {
     "end_time": "2025-07-28T09:46:41.354720Z",
     "start_time": "2025-07-28T09:46:38.192147Z"
    }
   },
   "source": [
    "from langchain_core.prompts import PromptTemplate\n",
    "from langchain_core.prompts import FewShotPromptTemplate\n",
    "from langchain.chains import LLMChain\n",
    "from langchain.chains import SimpleSequentialChain\n",
    "from langchain_community.llms import QianfanLLMEndpoint\n",
    "from langchain.agents import load_agent,initialize_agent,AgentType,load_tools\n",
    "\n",
    "import os\n",
    "from rich import print\n",
    "os.environ['QIANFAN_AK']=\"bNzufU8QpNnjFoNeJJoPyMoZ\"\n",
    "os.environ['QIANFAN_SK']='9bXb1QYdPVqxHpcBZcr7jmwxYRnjWjbV'"
   ],
   "outputs": [],
   "execution_count": 1
  },
  {
   "metadata": {
    "ExecuteTime": {
     "end_time": "2025-07-28T10:00:55.589544Z",
     "start_time": "2025-07-28T10:00:55.510426Z"
    }
   },
   "cell_type": "code",
   "source": [
    "llm=QianfanLLMEndpoint(model_name=\"Qianfan-Chinese-Llama-2-7B\")\n",
    "\n",
    "#tools=load_tools([\"llm-math\",\"wikipedia\"],llm=llm)\n",
    "tools=load_tools([\"bing-search\"],llm=llm)\n",
    "\n",
    "agent=initialize_agent(tools,llm,agent=AgentType.ZERO_SHOT_REACT_DESCRIPTION,verbose=True)\n",
    "\n",
    "prompt_template=\"\"\"中国目前有多少人口\"\"\"\n",
    "prompt=PromptTemplate.from_template(prompt_template)\n",
    "print(prompt)\n",
    "print(agent.run(prompt))"
   ],
   "id": "578dcacab832a15e",
   "outputs": [
    {
     "ename": "ValidationError",
     "evalue": "1 validation error for BingSearchAPIWrapper\n  Value error, Did not find bing_subscription_key, please add an environment variable `BING_SUBSCRIPTION_KEY` which contains it, or pass `bing_subscription_key` as a named parameter. [type=value_error, input_value={}, input_type=dict]\n    For further information visit https://errors.pydantic.dev/2.11/v/value_error",
     "output_type": "error",
     "traceback": [
      "\u001B[31m---------------------------------------------------------------------------\u001B[39m",
      "\u001B[31mValidationError\u001B[39m                           Traceback (most recent call last)",
      "\u001B[36mCell\u001B[39m\u001B[36m \u001B[39m\u001B[32mIn[10]\u001B[39m\u001B[32m, line 4\u001B[39m\n\u001B[32m      1\u001B[39m llm=QianfanLLMEndpoint(model_name=\u001B[33m\"\u001B[39m\u001B[33mQianfan-Chinese-Llama-2-7B\u001B[39m\u001B[33m\"\u001B[39m)\n\u001B[32m      3\u001B[39m \u001B[38;5;66;03m#tools=load_tools([\"llm-math\",\"wikipedia\"],llm=llm)\u001B[39;00m\n\u001B[32m----> \u001B[39m\u001B[32m4\u001B[39m tools=\u001B[43mload_tools\u001B[49m\u001B[43m(\u001B[49m\u001B[43m[\u001B[49m\u001B[33;43m\"\u001B[39;49m\u001B[33;43mbing-search\u001B[39;49m\u001B[33;43m\"\u001B[39;49m\u001B[43m]\u001B[49m\u001B[43m,\u001B[49m\u001B[43mllm\u001B[49m\u001B[43m=\u001B[49m\u001B[43mllm\u001B[49m\u001B[43m)\u001B[49m\n\u001B[32m      6\u001B[39m agent=initialize_agent(tools,llm,agent=AgentType.ZERO_SHOT_REACT_DESCRIPTION,verbose=\u001B[38;5;28;01mTrue\u001B[39;00m)\n\u001B[32m      8\u001B[39m prompt_template=\u001B[33m\"\"\"\u001B[39m\u001B[33m中国目前有多少人口\u001B[39m\u001B[33m\"\"\"\u001B[39m\n",
      "\u001B[36mFile \u001B[39m\u001B[32m~\\.conda\\envs\\rag_dev\\Lib\\site-packages\\langchain_community\\agent_toolkits\\load_tools.py:753\u001B[39m, in \u001B[36mload_tools\u001B[39m\u001B[34m(tool_names, llm, callbacks, allow_dangerous_tools, **kwargs)\u001B[39m\n\u001B[32m    751\u001B[39m     _get_tool_func, extra_keys = _EXTRA_OPTIONAL_TOOLS[name]\n\u001B[32m    752\u001B[39m     sub_kwargs = {k: kwargs[k] \u001B[38;5;28;01mfor\u001B[39;00m k \u001B[38;5;129;01min\u001B[39;00m extra_keys \u001B[38;5;28;01mif\u001B[39;00m k \u001B[38;5;129;01min\u001B[39;00m kwargs}\n\u001B[32m--> \u001B[39m\u001B[32m753\u001B[39m     tool = \u001B[43m_get_tool_func\u001B[49m\u001B[43m(\u001B[49m\u001B[43m*\u001B[49m\u001B[43m*\u001B[49m\u001B[43msub_kwargs\u001B[49m\u001B[43m)\u001B[49m\n\u001B[32m    754\u001B[39m     tools.append(tool)\n\u001B[32m    755\u001B[39m \u001B[38;5;28;01melse\u001B[39;00m:\n",
      "\u001B[36mFile \u001B[39m\u001B[32m~\\.conda\\envs\\rag_dev\\Lib\\site-packages\\langchain_community\\agent_toolkits\\load_tools.py:422\u001B[39m, in \u001B[36m_get_bing_search\u001B[39m\u001B[34m(**kwargs)\u001B[39m\n\u001B[32m    421\u001B[39m \u001B[38;5;28;01mdef\u001B[39;00m\u001B[38;5;250m \u001B[39m\u001B[34m_get_bing_search\u001B[39m(**kwargs: Any) -> BaseTool:\n\u001B[32m--> \u001B[39m\u001B[32m422\u001B[39m     \u001B[38;5;28;01mreturn\u001B[39;00m BingSearchRun(api_wrapper=\u001B[43mBingSearchAPIWrapper\u001B[49m\u001B[43m(\u001B[49m\u001B[43m*\u001B[49m\u001B[43m*\u001B[49m\u001B[43mkwargs\u001B[49m\u001B[43m)\u001B[49m)\n",
      "\u001B[36mFile \u001B[39m\u001B[32m~\\.conda\\envs\\rag_dev\\Lib\\site-packages\\pydantic\\main.py:253\u001B[39m, in \u001B[36mBaseModel.__init__\u001B[39m\u001B[34m(self, **data)\u001B[39m\n\u001B[32m    251\u001B[39m \u001B[38;5;66;03m# `__tracebackhide__` tells pytest and some other tools to omit this function from tracebacks\u001B[39;00m\n\u001B[32m    252\u001B[39m __tracebackhide__ = \u001B[38;5;28;01mTrue\u001B[39;00m\n\u001B[32m--> \u001B[39m\u001B[32m253\u001B[39m validated_self = \u001B[38;5;28;43mself\u001B[39;49m\u001B[43m.\u001B[49m\u001B[43m__pydantic_validator__\u001B[49m\u001B[43m.\u001B[49m\u001B[43mvalidate_python\u001B[49m\u001B[43m(\u001B[49m\u001B[43mdata\u001B[49m\u001B[43m,\u001B[49m\u001B[43m \u001B[49m\u001B[43mself_instance\u001B[49m\u001B[43m=\u001B[49m\u001B[38;5;28;43mself\u001B[39;49m\u001B[43m)\u001B[49m\n\u001B[32m    254\u001B[39m \u001B[38;5;28;01mif\u001B[39;00m \u001B[38;5;28mself\u001B[39m \u001B[38;5;129;01mis\u001B[39;00m \u001B[38;5;129;01mnot\u001B[39;00m validated_self:\n\u001B[32m    255\u001B[39m     warnings.warn(\n\u001B[32m    256\u001B[39m         \u001B[33m'\u001B[39m\u001B[33mA custom validator is returning a value other than `self`.\u001B[39m\u001B[38;5;130;01m\\n\u001B[39;00m\u001B[33m'\u001B[39m\n\u001B[32m    257\u001B[39m         \u001B[33m\"\u001B[39m\u001B[33mReturning anything other than `self` from a top level model validator isn\u001B[39m\u001B[33m'\u001B[39m\u001B[33mt supported when validating via `__init__`.\u001B[39m\u001B[38;5;130;01m\\n\u001B[39;00m\u001B[33m\"\u001B[39m\n\u001B[32m    258\u001B[39m         \u001B[33m'\u001B[39m\u001B[33mSee the `model_validator` docs (https://docs.pydantic.dev/latest/concepts/validators/#model-validators) for more details.\u001B[39m\u001B[33m'\u001B[39m,\n\u001B[32m    259\u001B[39m         stacklevel=\u001B[32m2\u001B[39m,\n\u001B[32m    260\u001B[39m     )\n",
      "\u001B[31mValidationError\u001B[39m: 1 validation error for BingSearchAPIWrapper\n  Value error, Did not find bing_subscription_key, please add an environment variable `BING_SUBSCRIPTION_KEY` which contains it, or pass `bing_subscription_key` as a named parameter. [type=value_error, input_value={}, input_type=dict]\n    For further information visit https://errors.pydantic.dev/2.11/v/value_error"
     ]
    }
   ],
   "execution_count": 10
  },
  {
   "metadata": {
    "ExecuteTime": {
     "end_time": "2025-07-28T09:56:52.022360Z",
     "start_time": "2025-07-28T09:56:52.005154Z"
    }
   },
   "cell_type": "code",
   "source": [
    "from langchain.agents import get_all_tool_names\n",
    "print(get_all_tool_names())"
   ],
   "id": "c499a2e5fa7e6a1c",
   "outputs": [
    {
     "data": {
      "text/plain": [
       "\u001B[1m[\u001B[0m\n",
       "    \u001B[32m'sleep'\u001B[0m,\n",
       "    \u001B[32m'wolfram-alpha'\u001B[0m,\n",
       "    \u001B[32m'google-search'\u001B[0m,\n",
       "    \u001B[32m'google-search-results-json'\u001B[0m,\n",
       "    \u001B[32m'searx-search-results-json'\u001B[0m,\n",
       "    \u001B[32m'bing-search'\u001B[0m,\n",
       "    \u001B[32m'metaphor-search'\u001B[0m,\n",
       "    \u001B[32m'ddg-search'\u001B[0m,\n",
       "    \u001B[32m'google-books'\u001B[0m,\n",
       "    \u001B[32m'google-lens'\u001B[0m,\n",
       "    \u001B[32m'google-serper'\u001B[0m,\n",
       "    \u001B[32m'google-scholar'\u001B[0m,\n",
       "    \u001B[32m'google-finance'\u001B[0m,\n",
       "    \u001B[32m'google-trends'\u001B[0m,\n",
       "    \u001B[32m'google-jobs'\u001B[0m,\n",
       "    \u001B[32m'google-serper-results-json'\u001B[0m,\n",
       "    \u001B[32m'searchapi'\u001B[0m,\n",
       "    \u001B[32m'searchapi-results-json'\u001B[0m,\n",
       "    \u001B[32m'serpapi'\u001B[0m,\n",
       "    \u001B[32m'dalle-image-generator'\u001B[0m,\n",
       "    \u001B[32m'twilio'\u001B[0m,\n",
       "    \u001B[32m'searx-search'\u001B[0m,\n",
       "    \u001B[32m'merriam-webster'\u001B[0m,\n",
       "    \u001B[32m'wikipedia'\u001B[0m,\n",
       "    \u001B[32m'arxiv'\u001B[0m,\n",
       "    \u001B[32m'golden-query'\u001B[0m,\n",
       "    \u001B[32m'pubmed'\u001B[0m,\n",
       "    \u001B[32m'human'\u001B[0m,\n",
       "    \u001B[32m'awslambda'\u001B[0m,\n",
       "    \u001B[32m'stackexchange'\u001B[0m,\n",
       "    \u001B[32m'sceneXplain'\u001B[0m,\n",
       "    \u001B[32m'graphql'\u001B[0m,\n",
       "    \u001B[32m'openweathermap-api'\u001B[0m,\n",
       "    \u001B[32m'dataforseo-api-search'\u001B[0m,\n",
       "    \u001B[32m'dataforseo-api-search-json'\u001B[0m,\n",
       "    \u001B[32m'eleven_labs_text2speech'\u001B[0m,\n",
       "    \u001B[32m'google_cloud_texttospeech'\u001B[0m,\n",
       "    \u001B[32m'read_file'\u001B[0m,\n",
       "    \u001B[32m'reddit_search'\u001B[0m,\n",
       "    \u001B[32m'news-api'\u001B[0m,\n",
       "    \u001B[32m'tmdb-api'\u001B[0m,\n",
       "    \u001B[32m'podcast-api'\u001B[0m,\n",
       "    \u001B[32m'memorize'\u001B[0m,\n",
       "    \u001B[32m'llm-math'\u001B[0m,\n",
       "    \u001B[32m'open-meteo-api'\u001B[0m,\n",
       "    \u001B[32m'requests'\u001B[0m,\n",
       "    \u001B[32m'requests_get'\u001B[0m,\n",
       "    \u001B[32m'requests_post'\u001B[0m,\n",
       "    \u001B[32m'requests_patch'\u001B[0m,\n",
       "    \u001B[32m'requests_put'\u001B[0m,\n",
       "    \u001B[32m'requests_delete'\u001B[0m,\n",
       "    \u001B[32m'terminal'\u001B[0m\n",
       "\u001B[1m]\u001B[0m\n"
      ],
      "text/html": [
       "<pre style=\"white-space:pre;overflow-x:auto;line-height:normal;font-family:Menlo,'DejaVu Sans Mono',consolas,'Courier New',monospace\"><span style=\"font-weight: bold\">[</span>\n",
       "    <span style=\"color: #008000; text-decoration-color: #008000\">'sleep'</span>,\n",
       "    <span style=\"color: #008000; text-decoration-color: #008000\">'wolfram-alpha'</span>,\n",
       "    <span style=\"color: #008000; text-decoration-color: #008000\">'google-search'</span>,\n",
       "    <span style=\"color: #008000; text-decoration-color: #008000\">'google-search-results-json'</span>,\n",
       "    <span style=\"color: #008000; text-decoration-color: #008000\">'searx-search-results-json'</span>,\n",
       "    <span style=\"color: #008000; text-decoration-color: #008000\">'bing-search'</span>,\n",
       "    <span style=\"color: #008000; text-decoration-color: #008000\">'metaphor-search'</span>,\n",
       "    <span style=\"color: #008000; text-decoration-color: #008000\">'ddg-search'</span>,\n",
       "    <span style=\"color: #008000; text-decoration-color: #008000\">'google-books'</span>,\n",
       "    <span style=\"color: #008000; text-decoration-color: #008000\">'google-lens'</span>,\n",
       "    <span style=\"color: #008000; text-decoration-color: #008000\">'google-serper'</span>,\n",
       "    <span style=\"color: #008000; text-decoration-color: #008000\">'google-scholar'</span>,\n",
       "    <span style=\"color: #008000; text-decoration-color: #008000\">'google-finance'</span>,\n",
       "    <span style=\"color: #008000; text-decoration-color: #008000\">'google-trends'</span>,\n",
       "    <span style=\"color: #008000; text-decoration-color: #008000\">'google-jobs'</span>,\n",
       "    <span style=\"color: #008000; text-decoration-color: #008000\">'google-serper-results-json'</span>,\n",
       "    <span style=\"color: #008000; text-decoration-color: #008000\">'searchapi'</span>,\n",
       "    <span style=\"color: #008000; text-decoration-color: #008000\">'searchapi-results-json'</span>,\n",
       "    <span style=\"color: #008000; text-decoration-color: #008000\">'serpapi'</span>,\n",
       "    <span style=\"color: #008000; text-decoration-color: #008000\">'dalle-image-generator'</span>,\n",
       "    <span style=\"color: #008000; text-decoration-color: #008000\">'twilio'</span>,\n",
       "    <span style=\"color: #008000; text-decoration-color: #008000\">'searx-search'</span>,\n",
       "    <span style=\"color: #008000; text-decoration-color: #008000\">'merriam-webster'</span>,\n",
       "    <span style=\"color: #008000; text-decoration-color: #008000\">'wikipedia'</span>,\n",
       "    <span style=\"color: #008000; text-decoration-color: #008000\">'arxiv'</span>,\n",
       "    <span style=\"color: #008000; text-decoration-color: #008000\">'golden-query'</span>,\n",
       "    <span style=\"color: #008000; text-decoration-color: #008000\">'pubmed'</span>,\n",
       "    <span style=\"color: #008000; text-decoration-color: #008000\">'human'</span>,\n",
       "    <span style=\"color: #008000; text-decoration-color: #008000\">'awslambda'</span>,\n",
       "    <span style=\"color: #008000; text-decoration-color: #008000\">'stackexchange'</span>,\n",
       "    <span style=\"color: #008000; text-decoration-color: #008000\">'sceneXplain'</span>,\n",
       "    <span style=\"color: #008000; text-decoration-color: #008000\">'graphql'</span>,\n",
       "    <span style=\"color: #008000; text-decoration-color: #008000\">'openweathermap-api'</span>,\n",
       "    <span style=\"color: #008000; text-decoration-color: #008000\">'dataforseo-api-search'</span>,\n",
       "    <span style=\"color: #008000; text-decoration-color: #008000\">'dataforseo-api-search-json'</span>,\n",
       "    <span style=\"color: #008000; text-decoration-color: #008000\">'eleven_labs_text2speech'</span>,\n",
       "    <span style=\"color: #008000; text-decoration-color: #008000\">'google_cloud_texttospeech'</span>,\n",
       "    <span style=\"color: #008000; text-decoration-color: #008000\">'read_file'</span>,\n",
       "    <span style=\"color: #008000; text-decoration-color: #008000\">'reddit_search'</span>,\n",
       "    <span style=\"color: #008000; text-decoration-color: #008000\">'news-api'</span>,\n",
       "    <span style=\"color: #008000; text-decoration-color: #008000\">'tmdb-api'</span>,\n",
       "    <span style=\"color: #008000; text-decoration-color: #008000\">'podcast-api'</span>,\n",
       "    <span style=\"color: #008000; text-decoration-color: #008000\">'memorize'</span>,\n",
       "    <span style=\"color: #008000; text-decoration-color: #008000\">'llm-math'</span>,\n",
       "    <span style=\"color: #008000; text-decoration-color: #008000\">'open-meteo-api'</span>,\n",
       "    <span style=\"color: #008000; text-decoration-color: #008000\">'requests'</span>,\n",
       "    <span style=\"color: #008000; text-decoration-color: #008000\">'requests_get'</span>,\n",
       "    <span style=\"color: #008000; text-decoration-color: #008000\">'requests_post'</span>,\n",
       "    <span style=\"color: #008000; text-decoration-color: #008000\">'requests_patch'</span>,\n",
       "    <span style=\"color: #008000; text-decoration-color: #008000\">'requests_put'</span>,\n",
       "    <span style=\"color: #008000; text-decoration-color: #008000\">'requests_delete'</span>,\n",
       "    <span style=\"color: #008000; text-decoration-color: #008000\">'terminal'</span>\n",
       "<span style=\"font-weight: bold\">]</span>\n",
       "</pre>\n"
      ]
     },
     "metadata": {},
     "output_type": "display_data"
    }
   ],
   "execution_count": 7
  }
 ],
 "metadata": {
  "kernelspec": {
   "display_name": "Python 3",
   "language": "python",
   "name": "python3"
  },
  "language_info": {
   "codemirror_mode": {
    "name": "ipython",
    "version": 2
   },
   "file_extension": ".py",
   "mimetype": "text/x-python",
   "name": "python",
   "nbconvert_exporter": "python",
   "pygments_lexer": "ipython2",
   "version": "2.7.6"
  }
 },
 "nbformat": 4,
 "nbformat_minor": 5
}
