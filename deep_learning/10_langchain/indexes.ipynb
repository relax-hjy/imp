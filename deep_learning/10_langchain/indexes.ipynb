{
 "cells": [
  {
   "cell_type": "code",
   "id": "initial_id",
   "metadata": {
    "collapsed": true,
    "ExecuteTime": {
     "end_time": "2025-07-29T10:28:29.827704Z",
     "start_time": "2025-07-29T10:28:29.813901Z"
    }
   },
   "source": [
    "from langchain.text_splitter import CharacterTextSplitter\n",
    "from rich import print\n",
    "\n",
    "splitter=CharacterTextSplitter(separator=' ',chunk_size=8,chunk_overlap=0)\n",
    "\n",
    "a=splitter.split_text(\"This is a long document that we would like to split up into chunks.\")\n",
    "print(a)\n"
   ],
   "outputs": [
    {
     "data": {
      "text/plain": [
       "\u001B[1m[\u001B[0m\u001B[32m'This is'\u001B[0m, \u001B[32m'a long'\u001B[0m, \u001B[32m'document'\u001B[0m, \u001B[32m'that we'\u001B[0m, \u001B[32m'would'\u001B[0m, \u001B[32m'like to'\u001B[0m, \u001B[32m'split up'\u001B[0m, \u001B[32m'into'\u001B[0m, \u001B[32m'chunks.'\u001B[0m\u001B[1m]\u001B[0m\n"
      ],
      "text/html": [
       "<pre style=\"white-space:pre;overflow-x:auto;line-height:normal;font-family:Menlo,'DejaVu Sans Mono',consolas,'Courier New',monospace\"><span style=\"font-weight: bold\">[</span><span style=\"color: #008000; text-decoration-color: #008000\">'This is'</span>, <span style=\"color: #008000; text-decoration-color: #008000\">'a long'</span>, <span style=\"color: #008000; text-decoration-color: #008000\">'document'</span>, <span style=\"color: #008000; text-decoration-color: #008000\">'that we'</span>, <span style=\"color: #008000; text-decoration-color: #008000\">'would'</span>, <span style=\"color: #008000; text-decoration-color: #008000\">'like to'</span>, <span style=\"color: #008000; text-decoration-color: #008000\">'split up'</span>, <span style=\"color: #008000; text-decoration-color: #008000\">'into'</span>, <span style=\"color: #008000; text-decoration-color: #008000\">'chunks.'</span><span style=\"font-weight: bold\">]</span>\n",
       "</pre>\n"
      ]
     },
     "metadata": {},
     "output_type": "display_data"
    }
   ],
   "execution_count": 16
  },
  {
   "metadata": {},
   "cell_type": "code",
   "outputs": [],
   "execution_count": null,
   "source": "",
   "id": "b07a705a42d7494d"
  }
 ],
 "metadata": {
  "kernelspec": {
   "display_name": "Python 3",
   "language": "python",
   "name": "python3"
  },
  "language_info": {
   "codemirror_mode": {
    "name": "ipython",
    "version": 2
   },
   "file_extension": ".py",
   "mimetype": "text/x-python",
   "name": "python",
   "nbconvert_exporter": "python",
   "pygments_lexer": "ipython2",
   "version": "2.7.6"
  }
 },
 "nbformat": 4,
 "nbformat_minor": 5
}
