{
 "cells": [
  {
   "cell_type": "code",
   "id": "initial_id",
   "metadata": {
    "collapsed": true,
    "ExecuteTime": {
     "end_time": "2025-07-28T09:24:54.873898Z",
     "start_time": "2025-07-28T09:24:54.856258Z"
    }
   },
   "source": [
    "from langchain_core.prompts import PromptTemplate\n",
    "from langchain_core.prompts import FewShotPromptTemplate\n",
    "from langchain.chains import LLMChain\n",
    "from langchain.chains import SimpleSequentialChain\n",
    "from langchain_community.llms import QianfanLLMEndpoint\n",
    "\n",
    "import os\n",
    "from rich import print\n",
    "os.environ['QIANFAN_AK']=\"bNzufU8QpNnjFoNeJJoPyMoZ\"\n",
    "os.environ['QIANFAN_SK']='9bXb1QYdPVqxHpcBZcr7jmwxYRnjWjbV'"
   ],
   "outputs": [],
   "execution_count": 5
  },
  {
   "metadata": {
    "ExecuteTime": {
     "end_time": "2025-07-28T09:17:42.142462Z",
     "start_time": "2025-07-28T09:17:35.322408Z"
    }
   },
   "cell_type": "code",
   "source": [
    "template = \"我的邻居性{lastname},他生了个儿子，给他儿子起个名字\"\n",
    "prompt= PromptTemplate(input_variables=[\"lastname\"], template=template)\n",
    "prompt_text= prompt.format(lastname=\"王\")\n",
    "llm = QianfanLLMEndpoint(endpoint_id=\"ERNIE-3.5-8K\")\n",
    "\n",
    "# result= llm(prompt_text)\n",
    "# print(result)\n",
    "chain=LLMChain(llm=llm, prompt=prompt)\n",
    "result= chain.run(lastname=\"王\")\n",
    "print(result)"
   ],
   "id": "a0a6278bb0d965ce",
   "outputs": [
    {
     "name": "stderr",
     "output_type": "stream",
     "text": [
      "[WARNING][2025-07-28 17:17:35.959] redis_rate_limiter.py:21 [t:20004]: No redis installed, RedisRateLimiter unavailable. Ignore this warning if you don't need to use qianfan SDK in distribution environment\n",
      "C:\\Users\\ext.hejianyu5\\AppData\\Local\\Temp\\ipykernel_31648\\3879465731.py:8: LangChainDeprecationWarning: The class `LLMChain` was deprecated in LangChain 0.1.17 and will be removed in 1.0. Use :meth:`~RunnableSequence, e.g., `prompt | llm`` instead.\n",
      "  chain=LLMChain(llm=llm, prompt=prompt)\n",
      "C:\\Users\\ext.hejianyu5\\AppData\\Local\\Temp\\ipykernel_31648\\3879465731.py:9: LangChainDeprecationWarning: The method `Chain.run` was deprecated in langchain 0.1.0 and will be removed in 1.0. Use :meth:`~invoke` instead.\n",
      "  result= chain.run(lastname=\"王\")\n",
      "[INFO][2025-07-28 17:17:36.074] oauth.py:277 [t:20004]: trying to refresh token for ak `bNzufU***`\n",
      "[INFO][2025-07-28 17:17:36.219] oauth.py:304 [t:20004]: successfully refresh token\n"
     ]
    },
    {
     "data": {
      "text/plain": [
       "恭喜您的邻居王先生喜得贵子！根据您的请求，以下是我为他的儿子精心挑选的五个中文名字，每个名字都附有起名的理由：\n",
       "\n",
       "\u001B[1;36m1\u001B[0m. **王浩然**\n",
       "* 理由：“浩然”意味着广阔、宏大，寓意孩子将来能有宽广的胸怀和远大的志向。\n",
       "\u001B[1;36m2\u001B[0m. **王子墨**\n",
       "* 理由：“子”常用于男孩的名字，代表着家族的希望。“墨”字给人以文学才华的印象，期望孩子能文雅且富有才情。\n",
       "\u001B[1;36m3\u001B[0m. **王思远**\n",
       "* 理由：“思远”寓意着有深远的思考和远见卓识，希望孩子能拥有长远的目光和智慧。\n",
       "\u001B[1;36m4\u001B[0m. **王梓轩**\n",
       "* 理由：“梓”取自梓树，常用来比喻才能或德行。“轩”则有高远、气派之意，期望孩子能成为德才兼备、气宇轩昂的人。\n",
       "\u001B[1;36m5\u001B[0m. **王天赐**\n",
       "* 理由：“天赐”意为上天赐予的宝贝，寓意孩子是家庭和社会的宝贵财富。\n",
       "\n",
       "这些名字都富有美好的寓意，既符合中文命名的传统，又具有现代感。请您根据个人喜好和家庭文化选择最合适的名字。需要注意\n",
       "的是，起名是一件非常个人和文化敏感的事情，以上名称仅供参考，最终的决定应由家长根据个人喜好和文化背景来做出。\n"
      ],
      "text/html": [
       "<pre style=\"white-space:pre;overflow-x:auto;line-height:normal;font-family:Menlo,'DejaVu Sans Mono',consolas,'Courier New',monospace\">恭喜您的邻居王先生喜得贵子！根据您的请求，以下是我为他的儿子精心挑选的五个中文名字，每个名字都附有起名的理由：\n",
       "\n",
       "<span style=\"color: #008080; text-decoration-color: #008080; font-weight: bold\">1</span>. **王浩然**\n",
       "* 理由：“浩然”意味着广阔、宏大，寓意孩子将来能有宽广的胸怀和远大的志向。\n",
       "<span style=\"color: #008080; text-decoration-color: #008080; font-weight: bold\">2</span>. **王子墨**\n",
       "* 理由：“子”常用于男孩的名字，代表着家族的希望。“墨”字给人以文学才华的印象，期望孩子能文雅且富有才情。\n",
       "<span style=\"color: #008080; text-decoration-color: #008080; font-weight: bold\">3</span>. **王思远**\n",
       "* 理由：“思远”寓意着有深远的思考和远见卓识，希望孩子能拥有长远的目光和智慧。\n",
       "<span style=\"color: #008080; text-decoration-color: #008080; font-weight: bold\">4</span>. **王梓轩**\n",
       "* 理由：“梓”取自梓树，常用来比喻才能或德行。“轩”则有高远、气派之意，期望孩子能成为德才兼备、气宇轩昂的人。\n",
       "<span style=\"color: #008080; text-decoration-color: #008080; font-weight: bold\">5</span>. **王天赐**\n",
       "* 理由：“天赐”意为上天赐予的宝贝，寓意孩子是家庭和社会的宝贵财富。\n",
       "\n",
       "这些名字都富有美好的寓意，既符合中文命名的传统，又具有现代感。请您根据个人喜好和家庭文化选择最合适的名字。需要注意\n",
       "的是，起名是一件非常个人和文化敏感的事情，以上名称仅供参考，最终的决定应由家长根据个人喜好和文化背景来做出。\n",
       "</pre>\n"
      ]
     },
     "metadata": {},
     "output_type": "display_data"
    }
   ],
   "execution_count": 3
  },
  {
   "metadata": {
    "ExecuteTime": {
     "end_time": "2025-07-28T09:25:13.334168Z",
     "start_time": "2025-07-28T09:25:01.517097Z"
    }
   },
   "cell_type": "code",
   "source": [
    "template = \"我的邻居性{lastname},他生了个儿子，给他儿子起个名字\"\n",
    "first_prompt= PromptTemplate(input_variables=[\"lastname\"], template=template)\n",
    "llm= QianfanLLMEndpoint(endpoint_id=\"ERNIE-3.5-8K\",temperature=0.9)\n",
    "chain=LLMChain(llm=llm, prompt=first_prompt)\n",
    "\n",
    "second_prompt= PromptTemplate(input_variables=[\"child_name\"], template=\"邻居的儿子叫{child_name},给他起一个小名\")\n",
    "second_chain=LLMChain(llm=llm, prompt=second_prompt)\n",
    "\n",
    "overall_chain=SimpleSequentialChain(chains=[chain, second_chain], verbose=True)\n",
    "\n",
    "catchphrase=overall_chain.run(\"王\")\n",
    "print(catchphrase)"
   ],
   "id": "9917b3638c5c7d31",
   "outputs": [
    {
     "name": "stderr",
     "output_type": "stream",
     "text": [
      "[INFO][2025-07-28 17:25:01.534] oauth.py:277 [t:20004]: trying to refresh token for ak `bNzufU***`\n",
      "[INFO][2025-07-28 17:25:01.677] oauth.py:304 [t:20004]: successfully refresh token\n"
     ]
    },
    {
     "name": "stdout",
     "output_type": "stream",
     "text": [
      "\n",
      "\n",
      "\u001B[1m> Entering new SimpleSequentialChain chain...\u001B[0m\n",
      "\u001B[36;1m\u001B[1;3m为您的邻居的儿子起名是一件既有意义又富有文化内涵的事情。以下是五个中文名字的建议，每个名字都附有起名的理由：\n",
      "\n",
      "1. 名字：王瑞康\n",
      "   理由：“瑞”寓意吉祥、好运，“康”意味着健康、安宁，希望孩子生活顺遂、身体健康。\n",
      "\n",
      "2. 名字：王梓轩\n",
      "   理由：“梓”取自梓树，常用来比喻才能或品德，“轩”则有气度不凡之意，期望孩子将来能成为德才兼备的人。\n",
      "\n",
      "3. 名字：王宇翔\n",
      "   理由：“宇”指宇宙，象征广阔无垠，“翔”意为飞翔，希望孩子未来能有远大的志向和无限的可能。\n",
      "\n",
      "4. 名字：王晨曦\n",
      "   理由：“晨曦”指清晨的第一缕阳光，寓意希望、新生，期望孩子像晨曦一样带来光明和希望。\n",
      "\n",
      "5. 名字：王煜诚\n",
      "   理由：“煜”意为光明照耀，“诚”意为真诚、诚实，希望孩子能够光明磊落、真诚待人。\n",
      "\n",
      "这些建议的名字都充满了美好的寓意，希望能够满足您的需求。请根据您的喜好和家庭文化背景来选择最合适的名字。需要注意的是，起名是一件非常个人化的事情，最终的选择应该基于您对名字含义的认同和家庭的文化传统。以上名称仅供参考，不作为最终决定的依据。\u001B[0m\n",
      "\u001B[33;1m\u001B[1;3m如果需要为这些正式名字提供一个更加亲昵的小名，可以参考以下几个建议：\n",
      "\n",
      "1. 对于“王瑞康”这个名字，小名可以叫做“康宝”，取自名字中的“康”字，而“宝”则带有珍视和亲昵的意味。\n",
      "2. 对于“王梓轩”，小名可以叫“轩轩”或“小梓”，通过重复名字中的字来形成亲昵感。\n",
      "3. “王宇翔”的小名可以叫“翔翔”或“小宇”，这两个小名都能保留原名字的部分元素，同时增加亲昵感。\n",
      "4. “王晨曦”的小名可以叫“曦曦”或“晨儿”，这些小名都与原名字中的元素相关联，同时也容易发音和记忆。\n",
      "5. “王煜诚”的小名可以叫“诚诚”或“小煜”，同样地，这些小名都带有亲昵和可爱的意味。\n",
      "\n",
      "这些小名都是基于原名字的元素来创造的，既保留了原名的部分特色，又增加了亲昵感。请根据您的喜好和家庭文化背景来选择最合适的小名。最终的选择应该符合家庭的文化传统和个人喜好。以上小名仅供参考，不作为最终决定的依据。\u001B[0m\n",
      "\n",
      "\u001B[1m> Finished chain.\u001B[0m\n"
     ]
    },
    {
     "data": {
      "text/plain": [
       "如果需要为这些正式名字提供一个更加亲昵的小名，可以参考以下几个建议：\n",
       "\n",
       "\u001B[1;36m1\u001B[0m. 对于“王瑞康”这个名字，小名可以叫做“康宝”，取自名字中的“康”字，而“宝”则带有珍视和亲昵的意味。\n",
       "\u001B[1;36m2\u001B[0m. 对于“王梓轩”，小名可以叫“轩轩”或“小梓”，通过重复名字中的字来形成亲昵感。\n",
       "\u001B[1;36m3\u001B[0m. “王宇翔”的小名可以叫“翔翔”或“小宇”，这两个小名都能保留原名字的部分元素，同时增加亲昵感。\n",
       "\u001B[1;36m4\u001B[0m. “王晨曦”的小名可以叫“曦曦”或“晨儿”，这些小名都与原名字中的元素相关联，同时也容易发音和记忆。\n",
       "\u001B[1;36m5\u001B[0m. “王煜诚”的小名可以叫“诚诚”或“小煜”，同样地，这些小名都带有亲昵和可爱的意味。\n",
       "\n",
       "这些小名都是基于原名字的元素来创造的，既保留了原名的部分特色，又增加了亲昵感。请根据您的喜好和家庭文化背景来选择最\n",
       "合适的小名。最终的选择应该符合家庭的文化传统和个人喜好。以上小名仅供参考，不作为最终决定的依据。\n"
      ],
      "text/html": [
       "<pre style=\"white-space:pre;overflow-x:auto;line-height:normal;font-family:Menlo,'DejaVu Sans Mono',consolas,'Courier New',monospace\">如果需要为这些正式名字提供一个更加亲昵的小名，可以参考以下几个建议：\n",
       "\n",
       "<span style=\"color: #008080; text-decoration-color: #008080; font-weight: bold\">1</span>. 对于“王瑞康”这个名字，小名可以叫做“康宝”，取自名字中的“康”字，而“宝”则带有珍视和亲昵的意味。\n",
       "<span style=\"color: #008080; text-decoration-color: #008080; font-weight: bold\">2</span>. 对于“王梓轩”，小名可以叫“轩轩”或“小梓”，通过重复名字中的字来形成亲昵感。\n",
       "<span style=\"color: #008080; text-decoration-color: #008080; font-weight: bold\">3</span>. “王宇翔”的小名可以叫“翔翔”或“小宇”，这两个小名都能保留原名字的部分元素，同时增加亲昵感。\n",
       "<span style=\"color: #008080; text-decoration-color: #008080; font-weight: bold\">4</span>. “王晨曦”的小名可以叫“曦曦”或“晨儿”，这些小名都与原名字中的元素相关联，同时也容易发音和记忆。\n",
       "<span style=\"color: #008080; text-decoration-color: #008080; font-weight: bold\">5</span>. “王煜诚”的小名可以叫“诚诚”或“小煜”，同样地，这些小名都带有亲昵和可爱的意味。\n",
       "\n",
       "这些小名都是基于原名字的元素来创造的，既保留了原名的部分特色，又增加了亲昵感。请根据您的喜好和家庭文化背景来选择最\n",
       "合适的小名。最终的选择应该符合家庭的文化传统和个人喜好。以上小名仅供参考，不作为最终决定的依据。\n",
       "</pre>\n"
      ]
     },
     "metadata": {},
     "output_type": "display_data"
    }
   ],
   "execution_count": 6
  }
 ],
 "metadata": {
  "kernelspec": {
   "display_name": "Python 3",
   "language": "python",
   "name": "python3"
  },
  "language_info": {
   "codemirror_mode": {
    "name": "ipython",
    "version": 2
   },
   "file_extension": ".py",
   "mimetype": "text/x-python",
   "name": "python",
   "nbconvert_exporter": "python",
   "pygments_lexer": "ipython2",
   "version": "2.7.6"
  }
 },
 "nbformat": 4,
 "nbformat_minor": 5
}
