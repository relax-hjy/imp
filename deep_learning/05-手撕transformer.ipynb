{
 "cells": [
  {
   "cell_type": "code",
   "id": "initial_id",
   "metadata": {
    "collapsed": true,
    "ExecuteTime": {
     "end_time": "2025-07-10T03:37:50.080425Z",
     "start_time": "2025-07-10T03:37:38.500023Z"
    }
   },
   "source": [
    "import torch\n",
    "import torch.nn as nn\n",
    "import torch.optim as optim\n",
    "import torch.utils.data as Data\n",
    "# https://blog.csdn.net/BXD1314/article/details/126187598\n",
    "import math\n",
    "import numpy as np"
   ],
   "outputs": [],
   "execution_count": 2
  },
  {
   "metadata": {
    "ExecuteTime": {
     "end_time": "2025-07-10T03:37:38.496002Z",
     "start_time": "2025-07-10T03:37:38.457472Z"
    }
   },
   "cell_type": "code",
   "source": [
    "device=100\n",
    "epochs=100\n",
    "sentences = [\n",
    "    # 中文和英语的单词个数不要求相同\n",
    "    # enc_input                dec_input           dec_output\n",
    "    ['我 有 一 个 好 朋 友 P', 'S I have a good friend .', 'I have a good friend . E'],\n",
    "    ['我 有 零 个 女 朋 友 P', 'S I have zero girl friend .', 'I have zero girl friend . E'],\n",
    "    ['我 有 一 个 男 朋 友 P', 'S I have a boy friend .', 'I have a boy friend . E']\n",
    "]\n",
    "\n",
    "src_vocab = {'P': 0, '我': 1, '有': 2, '一': 3,\n",
    "             '个': 4, '好': 5, '朋': 6, '友': 7, '零': 8, '女': 9, '男': 10}\n",
    "src_idx2word = {i: w for i, w in enumerate(src_vocab)}\n",
    "src_vocab_size = len(src_vocab)\n",
    "\n",
    "tgt_vocab = {'P': 0, 'I': 1, 'have': 2, 'a': 3, 'good': 4,\n",
    "             'friend': 5, 'zero': 6, 'girl': 7,  'boy': 8, 'S': 9, 'E': 10, '.': 11}\n",
    "idx2word = {i: w for i, w in enumerate(tgt_vocab)}\n",
    "tgt_vocab_size = len(tgt_vocab)\n",
    "\n",
    "src_len = 8  # （源句子的长度）enc_input max sequence length\n",
    "tgt_len = 7  # dec_input(=dec_output) max sequence length\n",
    "\n",
    "# Transformer Parameters\n",
    "d_model = 512  # Embedding Size（token embedding和position编码的维度）\n",
    "# FeedForward dimension (两次线性层中的隐藏层 512->2048->512，线性层是用来做特征提取的），当然最后会再接一个projection层\n",
    "d_ff = 2048\n",
    "d_k = d_v = 64  # dimension of K(=Q), V（Q和K的维度需要相同，这里为了方便让K=V）\n",
    "n_layers = 6  # number of Encoder of Decoder Layer（Block的个数）\n",
    "n_heads = 8  # number of heads in Multi-Head Attention（有几套头）"
   ],
   "id": "67b612e135d9a23a",
   "outputs": [],
   "execution_count": 1
  },
  {
   "metadata": {
    "ExecuteTime": {
     "end_time": "2025-07-10T10:57:06.421349Z",
     "start_time": "2025-07-10T10:57:06.408341Z"
    }
   },
   "cell_type": "code",
   "source": [
    "def make_data(sentences):\n",
    "    enc_inputs, dec_inputs, dec_outputs = [], [], []\n",
    "    for i in range(len(sentences)):\n",
    "        enc_inputs.append([src_vocab[n] for n in sentences[i][0].split()])\n",
    "        dec_inputs.append([tgt_vocab[n] for n in sentences[i][1].split()])\n",
    "        dec_outputs.append([tgt_vocab[n] for n in sentences[i][2].split()])\n",
    "        #[[1, 2, 3, 4, 5, 6, 7, 0], [1, 2, 8, 4, 9, 6, 7, 0], [1, 2, 3, 4, 10, 6, 7, 0]]\n",
    "        #[[9, 1, 2, 3, 4, 5, 11], [9, 1, 2, 6, 7, 5, 11], [9, 1, 2, 3, 8, 5, 11]]\n",
    "        #[[1, 2, 3, 4, 5, 11, 10], [1, 2, 6, 7, 5, 11, 10], [1, 2, 3, 8, 5, 11, 10]]\n",
    "    return torch.LongTensor(enc_inputs), torch.LongTensor(dec_inputs), torch.LongTensor(dec_outputs)\n",
    "\n",
    "enc_inputs, dec_inputs, dec_outputs = make_data(sentences)\n",
    "print(enc_inputs,dec_inputs,dec_outputs)"
   ],
   "id": "e04d7edcc2cc35fa",
   "outputs": [
    {
     "name": "stdout",
     "output_type": "stream",
     "text": [
      "tensor([[ 1,  2,  3,  4,  5,  6,  7,  0],\n",
      "        [ 1,  2,  8,  4,  9,  6,  7,  0],\n",
      "        [ 1,  2,  3,  4, 10,  6,  7,  0]]) tensor([[ 9,  1,  2,  3,  4,  5, 11],\n",
      "        [ 9,  1,  2,  6,  7,  5, 11],\n",
      "        [ 9,  1,  2,  3,  8,  5, 11]]) tensor([[ 1,  2,  3,  4,  5, 11, 10],\n",
      "        [ 1,  2,  6,  7,  5, 11, 10],\n",
      "        [ 1,  2,  3,  8,  5, 11, 10]])\n"
     ]
    }
   ],
   "execution_count": 32
  },
  {
   "metadata": {
    "ExecuteTime": {
     "end_time": "2025-07-10T10:58:21.846648Z",
     "start_time": "2025-07-10T10:58:21.833074Z"
    }
   },
   "cell_type": "code",
   "source": [
    "class MyDataSet(Data.Dataset):\n",
    "    \"\"\"自定义DataLoader\"\"\"\n",
    "\n",
    "    def __init__(self, enc_inputs, dec_inputs, dec_outputs):\n",
    "        super(MyDataSet, self).__init__()\n",
    "        self.enc_inputs = enc_inputs\n",
    "        self.dec_inputs = dec_inputs\n",
    "        self.dec_outputs = dec_outputs\n",
    "\n",
    "    def __len__(self):\n",
    "        return self.enc_inputs.shape[0]\n",
    "\n",
    "    def __getitem__(self, idx):\n",
    "        return self.enc_inputs[idx], self.dec_inputs[idx], self.dec_outputs[idx]\n",
    "\n",
    "\n",
    "loader = Data.DataLoader(\n",
    "    MyDataSet(enc_inputs, dec_inputs, dec_outputs), 2, True)"
   ],
   "id": "85749c8edac5f735",
   "outputs": [],
   "execution_count": 33
  },
  {
   "metadata": {
    "ExecuteTime": {
     "end_time": "2025-07-10T09:14:18.745224Z",
     "start_time": "2025-07-10T09:14:18.653530Z"
    }
   },
   "cell_type": "code",
   "source": [
    "class PositionalEncoding(nn.Module):\n",
    "    def __init__(self,d_model,dropout=0.1,max_len=5000):\n",
    "        super(PositionalEncoding,self).__init__()\n",
    "        self.dropout=nn.Dropout(p=dropout)\n",
    "        self.pe=torch.zeros(max_len,d_model) # 创建一个pe矩阵，大小为max_len*d_model\n",
    "        position=torch.arange(0,max_len,dtype=torch.float).unsqueeze(1) # 创建一个位置向量，大小为max_len*1,这里的位置是词的位置，词的位置从0开始，加一个维度是为了方便广播机制\n",
    "        div_term=torch.exp(torch.arange(0,d_model,2).float()*(-math.log(10000.0)/d_model)) # 创建一个分母向量，大小为d_model/2\n",
    "        print( position.shape,div_term.shape)\n",
    "        print( (position*div_term).shape)\n",
    "        self.pe[:,0::2]=torch.sin(position*div_term)\n",
    "        self.pe[:,1::2]=torch.cos(position*div_term)\n",
    "        self.pe=self.pe.unsqueeze(0).transpose(0,1)\n",
    "        print(self.pe.shape)\n",
    "        self.register_buffer('pe',self.pe)  # 放入缓存区\n",
    "    \n",
    "    def forward(self,x):\n",
    "        \"\"\"\n",
    "        x: [seq_len, batch_size, d_model]\n",
    "        \"\"\"\n",
    "        x=x+self.pe[:x.size(0),:]\n",
    "        return self.dropout(x)\n",
    "pe=PositionalEncoding(d_model)"
   ],
   "id": "ba034dee17953334",
   "outputs": [
    {
     "name": "stdout",
     "output_type": "stream",
     "text": [
      "torch.Size([5000, 1]) torch.Size([256])\n",
      "torch.Size([5000, 256])\n",
      "torch.Size([5000, 1, 512])\n"
     ]
    }
   ],
   "execution_count": 5
  },
  {
   "metadata": {},
   "cell_type": "code",
   "outputs": [],
   "execution_count": null,
   "source": [
    "def get_attn_pad_mask(seq_q, seq_k):\n",
    "    # pad mask的作用：在对value向量加权平均的时候，可以让pad对应的alpha_ij=0，这样注意力就不会考虑到pad向量\n",
    "    \"\"\"这里的q,k表示的是两个序列（跟注意力机制的q,k没有关系），例如encoder_inputs (x1,x2,..xm)和encoder_inputs (x1,x2..xm)\n",
    "    encoder和decoder都可能调用这个函数，所以seq_len视情况而定\n",
    "    seq_q: [batch_size, seq_len]\n",
    "    seq_k: [batch_size, seq_len]\n",
    "    seq_len could be src_len or it could be tgt_len\n",
    "    seq_len in seq_q and seq_len in seq_k maybe not equal\n",
    "    \"\"\"\n",
    "    batch_size, len_q = seq_q.size()  # 这个seq_q只是用来expand维度的\n",
    "    batch_size, len_k = seq_k.size()\n",
    "    # eq(zero) is PAD token\n",
    "    # 例如:seq_k = [[1,2,3,4,0], [1,2,3,5,0]]\n",
    "    # [batch_size, 1, len_k], True is masked\n",
    "    pad_attn_mask = seq_k.data.eq(0).unsqueeze(1)\n",
    "    # [batch_size, len_q, len_k] 构成一个立方体(batch_size个这样的矩阵)\n",
    "    return pad_attn_mask.expand(batch_size, len_q, len_k)"
   ],
   "id": "472113d88413f8a5"
  },
  {
   "metadata": {
    "ExecuteTime": {
     "end_time": "2025-07-10T11:03:06.469108Z",
     "start_time": "2025-07-10T11:03:06.450644Z"
    }
   },
   "cell_type": "code",
   "source": [
    "dataset=MyDataSet(enc_inputs,dec_inputs,dec_outputs)\n",
    "print(dataset[0][0])"
   ],
   "id": "14556f7dac99d87d",
   "outputs": [
    {
     "name": "stdout",
     "output_type": "stream",
     "text": [
      "tensor([1, 2, 3, 4, 5, 6, 7, 0])\n"
     ]
    }
   ],
   "execution_count": 37
  },
  {
   "metadata": {
    "ExecuteTime": {
     "end_time": "2025-07-10T10:27:39.958351Z",
     "start_time": "2025-07-10T10:27:39.605763Z"
    }
   },
   "cell_type": "code",
   "source": [
    "import matplotlib.pyplot as plt\n",
    "\n",
    "d_model = 512\n",
    "i = torch.arange(0, d_model, 2)\n",
    "div_term = torch.exp(i * (-math.log(10000) / d_model))\n",
    "\n",
    "# k = torch.arange(0, d_model, 1)\n",
    "# div_term2 = torch.exp(k * (-math.log(10000) / d_model))\n",
    "\n",
    "j=torch.arange(0, d_model, 1)\n",
    "print(j.numpy().shape)\n",
    "pe=torch.zeros(d_model)\n",
    "print(pe.numpy().shape)\n",
    "pe[0::2]=torch.sin(div_term)\n",
    "pe[1::2]=torch.cos(div_term)\n",
    "plt.plot(j.numpy(), pe.numpy())\n",
    "print(j,pe)\n",
    "\n",
    "plt.figure(figsize=(10, 4))\n",
    "plt.plot(i.numpy(), div_term.numpy())\n",
    "plt.title(\"Positional Encoding Scaling Factors\")\n",
    "plt.xlabel(\"Dimension Index (i)\")\n",
    "plt.ylabel(\"Scaling Factor\")\n",
    "plt.grid(True)\n",
    "plt.show()\n",
    "#缩放因子随维度增加指数下降"
   ],
   "id": "57d3fc167bf4d503",
   "outputs": [
    {
     "name": "stdout",
     "output_type": "stream",
     "text": [
      "(512,)\n",
      "(512,)\n",
      "tensor([  0,   1,   2,   3,   4,   5,   6,   7,   8,   9,  10,  11,  12,  13,\n",
      "         14,  15,  16,  17,  18,  19,  20,  21,  22,  23,  24,  25,  26,  27,\n",
      "         28,  29,  30,  31,  32,  33,  34,  35,  36,  37,  38,  39,  40,  41,\n",
      "         42,  43,  44,  45,  46,  47,  48,  49,  50,  51,  52,  53,  54,  55,\n",
      "         56,  57,  58,  59,  60,  61,  62,  63,  64,  65,  66,  67,  68,  69,\n",
      "         70,  71,  72,  73,  74,  75,  76,  77,  78,  79,  80,  81,  82,  83,\n",
      "         84,  85,  86,  87,  88,  89,  90,  91,  92,  93,  94,  95,  96,  97,\n",
      "         98,  99, 100, 101, 102, 103, 104, 105, 106, 107, 108, 109, 110, 111,\n",
      "        112, 113, 114, 115, 116, 117, 118, 119, 120, 121, 122, 123, 124, 125,\n",
      "        126, 127, 128, 129, 130, 131, 132, 133, 134, 135, 136, 137, 138, 139,\n",
      "        140, 141, 142, 143, 144, 145, 146, 147, 148, 149, 150, 151, 152, 153,\n",
      "        154, 155, 156, 157, 158, 159, 160, 161, 162, 163, 164, 165, 166, 167,\n",
      "        168, 169, 170, 171, 172, 173, 174, 175, 176, 177, 178, 179, 180, 181,\n",
      "        182, 183, 184, 185, 186, 187, 188, 189, 190, 191, 192, 193, 194, 195,\n",
      "        196, 197, 198, 199, 200, 201, 202, 203, 204, 205, 206, 207, 208, 209,\n",
      "        210, 211, 212, 213, 214, 215, 216, 217, 218, 219, 220, 221, 222, 223,\n",
      "        224, 225, 226, 227, 228, 229, 230, 231, 232, 233, 234, 235, 236, 237,\n",
      "        238, 239, 240, 241, 242, 243, 244, 245, 246, 247, 248, 249, 250, 251,\n",
      "        252, 253, 254, 255, 256, 257, 258, 259, 260, 261, 262, 263, 264, 265,\n",
      "        266, 267, 268, 269, 270, 271, 272, 273, 274, 275, 276, 277, 278, 279,\n",
      "        280, 281, 282, 283, 284, 285, 286, 287, 288, 289, 290, 291, 292, 293,\n",
      "        294, 295, 296, 297, 298, 299, 300, 301, 302, 303, 304, 305, 306, 307,\n",
      "        308, 309, 310, 311, 312, 313, 314, 315, 316, 317, 318, 319, 320, 321,\n",
      "        322, 323, 324, 325, 326, 327, 328, 329, 330, 331, 332, 333, 334, 335,\n",
      "        336, 337, 338, 339, 340, 341, 342, 343, 344, 345, 346, 347, 348, 349,\n",
      "        350, 351, 352, 353, 354, 355, 356, 357, 358, 359, 360, 361, 362, 363,\n",
      "        364, 365, 366, 367, 368, 369, 370, 371, 372, 373, 374, 375, 376, 377,\n",
      "        378, 379, 380, 381, 382, 383, 384, 385, 386, 387, 388, 389, 390, 391,\n",
      "        392, 393, 394, 395, 396, 397, 398, 399, 400, 401, 402, 403, 404, 405,\n",
      "        406, 407, 408, 409, 410, 411, 412, 413, 414, 415, 416, 417, 418, 419,\n",
      "        420, 421, 422, 423, 424, 425, 426, 427, 428, 429, 430, 431, 432, 433,\n",
      "        434, 435, 436, 437, 438, 439, 440, 441, 442, 443, 444, 445, 446, 447,\n",
      "        448, 449, 450, 451, 452, 453, 454, 455, 456, 457, 458, 459, 460, 461,\n",
      "        462, 463, 464, 465, 466, 467, 468, 469, 470, 471, 472, 473, 474, 475,\n",
      "        476, 477, 478, 479, 480, 481, 482, 483, 484, 485, 486, 487, 488, 489,\n",
      "        490, 491, 492, 493, 494, 495, 496, 497, 498, 499, 500, 501, 502, 503,\n",
      "        504, 505, 506, 507, 508, 509, 510, 511]) tensor([8.4147e-01, 5.4030e-01, 8.2186e-01, 5.6970e-01, 8.0196e-01, 5.9738e-01,\n",
      "        7.8189e-01, 6.2342e-01, 7.6172e-01, 6.4791e-01, 7.4154e-01, 6.7091e-01,\n",
      "        7.2141e-01, 6.9250e-01, 7.0140e-01, 7.1276e-01, 6.8156e-01, 7.3176e-01,\n",
      "        6.6193e-01, 7.4956e-01, 6.4256e-01, 7.6624e-01, 6.2347e-01, 7.8185e-01,\n",
      "        6.0469e-01, 7.9646e-01, 5.8626e-01, 8.1012e-01, 5.6818e-01, 8.2290e-01,\n",
      "        5.5048e-01, 8.3485e-01, 5.3317e-01, 8.4601e-01, 5.1625e-01, 8.5644e-01,\n",
      "        4.9974e-01, 8.6618e-01, 4.8364e-01, 8.7527e-01, 4.6795e-01, 8.8376e-01,\n",
      "        4.5267e-01, 8.9168e-01, 4.3781e-01, 8.9907e-01, 4.2335e-01, 9.0596e-01,\n",
      "        4.0931e-01, 9.1240e-01, 3.9567e-01, 9.1839e-01, 3.8242e-01, 9.2399e-01,\n",
      "        3.6957e-01, 9.2920e-01, 3.5711e-01, 9.3406e-01, 3.4503e-01, 9.3859e-01,\n",
      "        3.3332e-01, 9.4281e-01, 3.2197e-01, 9.4675e-01, 3.1098e-01, 9.5042e-01,\n",
      "        3.0034e-01, 9.5383e-01, 2.9004e-01, 9.5701e-01, 2.8008e-01, 9.5998e-01,\n",
      "        2.7043e-01, 9.6274e-01, 2.6110e-01, 9.6531e-01, 2.5208e-01, 9.6771e-01,\n",
      "        2.4336e-01, 9.6994e-01, 2.3492e-01, 9.7201e-01, 2.2677e-01, 9.7395e-01,\n",
      "        2.1889e-01, 9.7575e-01, 2.1127e-01, 9.7743e-01, 2.0391e-01, 9.7899e-01,\n",
      "        1.9680e-01, 9.8044e-01, 1.8993e-01, 9.8180e-01, 1.8330e-01, 9.8306e-01,\n",
      "        1.7689e-01, 9.8423e-01, 1.7070e-01, 9.8532e-01, 1.6473e-01, 9.8634e-01,\n",
      "        1.5896e-01, 9.8729e-01, 1.5338e-01, 9.8817e-01, 1.4801e-01, 9.8899e-01,\n",
      "        1.4281e-01, 9.8975e-01, 1.3780e-01, 9.9046e-01, 1.3296e-01, 9.9112e-01,\n",
      "        1.2829e-01, 9.9174e-01, 1.2378e-01, 9.9231e-01, 1.1942e-01, 9.9284e-01,\n",
      "        1.1522e-01, 9.9334e-01, 1.1117e-01, 9.9380e-01, 1.0725e-01, 9.9423e-01,\n",
      "        1.0348e-01, 9.9463e-01, 9.9833e-02, 9.9500e-01, 9.6317e-02, 9.9535e-01,\n",
      "        9.2923e-02, 9.9567e-01, 8.9648e-02, 9.9597e-01, 8.6488e-02, 9.9625e-01,\n",
      "        8.3439e-02, 9.9651e-01, 8.0497e-02, 9.9675e-01, 7.7658e-02, 9.9698e-01,\n",
      "        7.4919e-02, 9.9719e-01, 7.2276e-02, 9.9738e-01, 6.9726e-02, 9.9757e-01,\n",
      "        6.7266e-02, 9.9774e-01, 6.4893e-02, 9.9789e-01, 6.2602e-02, 9.9804e-01,\n",
      "        6.0393e-02, 9.9817e-01, 5.8261e-02, 9.9830e-01, 5.6204e-02, 9.9842e-01,\n",
      "        5.4220e-02, 9.9853e-01, 5.2306e-02, 9.9863e-01, 5.0459e-02, 9.9873e-01,\n",
      "        4.8678e-02, 9.9881e-01, 4.6959e-02, 9.9890e-01, 4.5300e-02, 9.9897e-01,\n",
      "        4.3701e-02, 9.9904e-01, 4.2157e-02, 9.9911e-01, 4.0668e-02, 9.9917e-01,\n",
      "        3.9232e-02, 9.9923e-01, 3.7846e-02, 9.9928e-01, 3.6509e-02, 9.9933e-01,\n",
      "        3.5220e-02, 9.9938e-01, 3.3976e-02, 9.9942e-01, 3.2775e-02, 9.9946e-01,\n",
      "        3.1618e-02, 9.9950e-01, 3.0501e-02, 9.9953e-01, 2.9423e-02, 9.9957e-01,\n",
      "        2.8384e-02, 9.9960e-01, 2.7381e-02, 9.9963e-01, 2.6413e-02, 9.9965e-01,\n",
      "        2.5480e-02, 9.9968e-01, 2.4580e-02, 9.9970e-01, 2.3712e-02, 9.9972e-01,\n",
      "        2.2874e-02, 9.9974e-01, 2.2066e-02, 9.9976e-01, 2.1286e-02, 9.9977e-01,\n",
      "        2.0534e-02, 9.9979e-01, 1.9808e-02, 9.9980e-01, 1.9108e-02, 9.9982e-01,\n",
      "        1.8433e-02, 9.9983e-01, 1.7782e-02, 9.9984e-01, 1.7154e-02, 9.9985e-01,\n",
      "        1.6547e-02, 9.9986e-01, 1.5963e-02, 9.9987e-01, 1.5399e-02, 9.9988e-01,\n",
      "        1.4855e-02, 9.9989e-01, 1.4330e-02, 9.9990e-01, 1.3823e-02, 9.9990e-01,\n",
      "        1.3335e-02, 9.9991e-01, 1.2864e-02, 9.9992e-01, 1.2409e-02, 9.9992e-01,\n",
      "        1.1971e-02, 9.9993e-01, 1.1548e-02, 9.9993e-01, 1.1140e-02, 9.9994e-01,\n",
      "        1.0746e-02, 9.9994e-01, 1.0366e-02, 9.9995e-01, 9.9998e-03, 9.9995e-01,\n",
      "        9.6465e-03, 9.9995e-01, 9.3056e-03, 9.9996e-01, 8.9768e-03, 9.9996e-01,\n",
      "        8.6595e-03, 9.9996e-01, 8.3535e-03, 9.9997e-01, 8.0583e-03, 9.9997e-01,\n",
      "        7.7736e-03, 9.9997e-01, 7.4989e-03, 9.9997e-01, 7.2339e-03, 9.9997e-01,\n",
      "        6.9782e-03, 9.9998e-01, 6.7317e-03, 9.9998e-01, 6.4938e-03, 9.9998e-01,\n",
      "        6.2643e-03, 9.9998e-01, 6.0429e-03, 9.9998e-01, 5.8294e-03, 9.9998e-01,\n",
      "        5.6234e-03, 9.9998e-01, 5.4247e-03, 9.9999e-01, 5.2330e-03, 9.9999e-01,\n",
      "        5.0480e-03, 9.9999e-01, 4.8697e-03, 9.9999e-01, 4.6976e-03, 9.9999e-01,\n",
      "        4.5316e-03, 9.9999e-01, 4.3714e-03, 9.9999e-01, 4.2170e-03, 9.9999e-01,\n",
      "        4.0679e-03, 9.9999e-01, 3.9242e-03, 9.9999e-01, 3.7855e-03, 9.9999e-01,\n",
      "        3.6517e-03, 9.9999e-01, 3.5227e-03, 9.9999e-01, 3.3982e-03, 9.9999e-01,\n",
      "        3.2781e-03, 9.9999e-01, 3.1623e-03, 9.9999e-01, 3.0505e-03, 1.0000e+00,\n",
      "        2.9427e-03, 1.0000e+00, 2.8387e-03, 1.0000e+00, 2.7384e-03, 1.0000e+00,\n",
      "        2.6416e-03, 1.0000e+00, 2.5483e-03, 1.0000e+00, 2.4582e-03, 1.0000e+00,\n",
      "        2.3714e-03, 1.0000e+00, 2.2876e-03, 1.0000e+00, 2.2067e-03, 1.0000e+00,\n",
      "        2.1287e-03, 1.0000e+00, 2.0535e-03, 1.0000e+00, 1.9810e-03, 1.0000e+00,\n",
      "        1.9110e-03, 1.0000e+00, 1.8434e-03, 1.0000e+00, 1.7783e-03, 1.0000e+00,\n",
      "        1.7154e-03, 1.0000e+00, 1.6548e-03, 1.0000e+00, 1.5963e-03, 1.0000e+00,\n",
      "        1.5399e-03, 1.0000e+00, 1.4855e-03, 1.0000e+00, 1.4330e-03, 1.0000e+00,\n",
      "        1.3824e-03, 1.0000e+00, 1.3335e-03, 1.0000e+00, 1.2864e-03, 1.0000e+00,\n",
      "        1.2409e-03, 1.0000e+00, 1.1971e-03, 1.0000e+00, 1.1548e-03, 1.0000e+00,\n",
      "        1.1140e-03, 1.0000e+00, 1.0746e-03, 1.0000e+00, 1.0366e-03, 1.0000e+00,\n",
      "        1.0000e-03, 1.0000e+00, 9.6466e-04, 1.0000e+00, 9.3057e-04, 1.0000e+00,\n",
      "        8.9769e-04, 1.0000e+00, 8.6596e-04, 1.0000e+00, 8.3536e-04, 1.0000e+00,\n",
      "        8.0584e-04, 1.0000e+00, 7.7736e-04, 1.0000e+00, 7.4989e-04, 1.0000e+00,\n",
      "        7.2339e-04, 1.0000e+00, 6.9783e-04, 1.0000e+00, 6.7317e-04, 1.0000e+00,\n",
      "        6.4938e-04, 1.0000e+00, 6.2643e-04, 1.0000e+00, 6.0430e-04, 1.0000e+00,\n",
      "        5.8294e-04, 1.0000e+00, 5.6234e-04, 1.0000e+00, 5.4247e-04, 1.0000e+00,\n",
      "        5.2330e-04, 1.0000e+00, 5.0481e-04, 1.0000e+00, 4.8697e-04, 1.0000e+00,\n",
      "        4.6976e-04, 1.0000e+00, 4.5316e-04, 1.0000e+00, 4.3714e-04, 1.0000e+00,\n",
      "        4.2170e-04, 1.0000e+00, 4.0679e-04, 1.0000e+00, 3.9242e-04, 1.0000e+00,\n",
      "        3.7855e-04, 1.0000e+00, 3.6517e-04, 1.0000e+00, 3.5227e-04, 1.0000e+00,\n",
      "        3.3982e-04, 1.0000e+00, 3.2781e-04, 1.0000e+00, 3.1623e-04, 1.0000e+00,\n",
      "        3.0505e-04, 1.0000e+00, 2.9427e-04, 1.0000e+00, 2.8387e-04, 1.0000e+00,\n",
      "        2.7384e-04, 1.0000e+00, 2.6416e-04, 1.0000e+00, 2.5483e-04, 1.0000e+00,\n",
      "        2.4582e-04, 1.0000e+00, 2.3714e-04, 1.0000e+00, 2.2876e-04, 1.0000e+00,\n",
      "        2.2067e-04, 1.0000e+00, 2.1288e-04, 1.0000e+00, 2.0535e-04, 1.0000e+00,\n",
      "        1.9810e-04, 1.0000e+00, 1.9110e-04, 1.0000e+00, 1.8434e-04, 1.0000e+00,\n",
      "        1.7783e-04, 1.0000e+00, 1.7154e-04, 1.0000e+00, 1.6548e-04, 1.0000e+00,\n",
      "        1.5963e-04, 1.0000e+00, 1.5399e-04, 1.0000e+00, 1.4855e-04, 1.0000e+00,\n",
      "        1.4330e-04, 1.0000e+00, 1.3824e-04, 1.0000e+00, 1.3335e-04, 1.0000e+00,\n",
      "        1.2864e-04, 1.0000e+00, 1.2409e-04, 1.0000e+00, 1.1971e-04, 1.0000e+00,\n",
      "        1.1548e-04, 1.0000e+00, 1.1140e-04, 1.0000e+00, 1.0746e-04, 1.0000e+00,\n",
      "        1.0366e-04, 1.0000e+00])\n"
     ]
    },
    {
     "data": {
      "text/plain": [
       "<Figure size 640x480 with 1 Axes>"
      ],
      "image/png": "[encoded data removed]"
     },
     "metadata": {},
     "output_type": "display_data"
    },
    {
     "data": {
      "text/plain": [
       "<Figure size 1000x400 with 1 Axes>"
      ],
      "image/png": "[encoded data removed]"
     },
     "metadata": {},
     "output_type": "display_data"
    }
   ],
   "execution_count": 29
  },
  {
   "metadata": {},
   "cell_type": "code",
   "outputs": [],
   "execution_count": null,
   "source": "",
   "id": "1180648ccf137fa2"
  }
 ],
 "metadata": {
  "kernelspec": {
   "display_name": "Python 3",
   "language": "python",
   "name": "python3"
  },
  "language_info": {
   "codemirror_mode": {
    "name": "ipython",
    "version": 2
   },
   "file_extension": ".py",
   "mimetype": "text/x-python",
   "name": "python",
   "nbconvert_exporter": "python",
   "pygments_lexer": "ipython2",
   "version": "2.7.6"
  }
 },
 "nbformat": 4,
 "nbformat_minor": 5
}
