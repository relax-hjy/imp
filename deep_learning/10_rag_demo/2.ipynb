{
 "cells": [
  {
   "cell_type": "code",
   "execution_count": null,
   "id": "initial_id",
   "metadata": {
    "collapsed": true
   },
   "outputs": [],
   "source": [
    "from langchain_community.document_loaders import UnstructuredFileLoader\n",
    "from langchain.text_splitter import RecursiveCharacterTextSplitter\n",
    "from langchain_community.embeddings import HuggingFaceEmbeddings\n",
    "from langchain_community.vectorstores import FAISS"
   ]
  },
  {
   "metadata": {},
   "cell_type": "code",
   "outputs": [],
   "execution_count": null,
   "source": [
    "def main():\n",
    "    EMBEDDING_MODEL=\"moka-ai/m3e-base\"\n",
    "    \n",
    "    loader=UnstructuredFileLoader(\"./data/example.pdf\")\n",
    "    data=loader.load()\n",
    "    print(f'documents:{len(data)}')\n",
    "    \n",
    "    text_splitter=RecursiveCharacterTextSplitter(chunk_size=1000,chunk_overlap=0)\n",
    "    \n",
    "    split_docs=text_splitter.split_documents(data)\n",
    "    \n",
    "    embeddings=HuggingFaceEmbeddings(model_name=EMBEDDING_MODEL)\n",
    "    \n",
    "    db=FAISS.from_documents(split_docs,embeddings)\n",
    "    db.save_local(\"./data/faiss_index\")\n",
    "    \n",
    "    return split_docs\n",
    "\n",
    "result=main()\n",
    "print(result)"
   ],
   "id": "517484a7068f11b5"
  },
  {
   "metadata": {},
   "cell_type": "code",
   "outputs": [],
   "execution_count": null,
   "source": "",
   "id": "7dd647210980d3cc"
  }
 ],
 "metadata": {
  "kernelspec": {
   "display_name": "Python 3",
   "language": "python",
   "name": "python3"
  },
  "language_info": {
   "codemirror_mode": {
    "name": "ipython",
    "version": 2
   },
   "file_extension": ".py",
   "mimetype": "text/x-python",
   "name": "python",
   "nbconvert_exporter": "python",
   "pygments_lexer": "ipython2",
   "version": "2.7.6"
  }
 },
 "nbformat": 4,
 "nbformat_minor": 5
}
