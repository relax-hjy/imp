{
 "cells": [
  {
   "cell_type": "code",
   "execution_count": null,
   "id": "initial_id",
   "metadata": {
    "collapsed": true
   },
   "outputs": [],
   "source": [
    "\"\"\"\n",
    "1.本地部署大模型\n",
    "2.根据业务背景，针对不同任务设计不同提示词，再通过大模型提示学习能力完成需求。\n",
    "\n",
    "\"\"\""
   ]
  },
  {
   "metadata": {
    "jupyter": {
     "is_executing": true
    }
   },
   "cell_type": "code",
   "source": [
    "from typing import List, Dict\n",
    "\n",
    "# 分类\n",
    "\"\"\"\n",
    "角色\n",
    "任务说明\n",
    "样本\n",
    "返回格式\n",
    "init_prompt()\n",
    "reference()\n",
    "\"\"\"\n",
    "class_example = {\n",
    "    \"新闻报道\":\"12\",\n",
    "    \"财务报告\":\"34\"\n",
    "}\n",
    "(\n",
    "                f\"你是一个{type}分类模型，你的任务是给定一个文本，将文本分类为{type}。\"\n",
    "                f\"你的输入是：{example}，你的输出是：{type}。\"\n",
    "            )\n",
    "def init_prompts():\n",
    "    class_list=list(class_example.keys())\n",
    "    pre_history=[('你是个几把','好的')]\n",
    "    for type,example in class_example.items():\n",
    "        pre_history.append(\n",
    "            (f'\"{example}\"是{class_list}任务的什么类别',type)\n",
    "        )\n",
    "    return {\"class_list\":class_list,\"pre_history\":pre_history}\n",
    "\n",
    "def inference(sentences:List, custom_settings:Dict):\n",
    "    \n",
    "    for sentence in sentences:\n",
    "        with console.status(f\"正在处理{sentence}...\"):\n",
    "            sentence_prompt =f'\"{sentence}\"是{custom_settings[\"class_list\"]}任务的什么类别'\n",
    "            response, history = model.chat(tokenizer, sentence_prompt, history=custom_settings[\"pre_history\"])\n",
    "            print(sentence)\n",
    "            print(response)\n",
    "            print(history)\n",
    "if __name__ == \"__main__\":\n",
    "    console=Console()\n",
    "    tokenizer=AutoTokenizer.from_pretrained(\"\")\n",
    "    model=AutoModelForSeq2SeqLM.from_pretrained(\"\")\n",
    "    model.to(\"cuda\")\n",
    "    sentences=[]\n",
    "    custom_settings=init_prompts()\n",
    "    \n",
    "    inference(\n",
    "        sentences,\n",
    "        custom_settings\n",
    "    )\n",
    "    "
   ],
   "id": "3e83466732fb2a8",
   "outputs": [],
   "execution_count": null
  },
  {
   "metadata": {},
   "cell_type": "code",
   "outputs": [],
   "execution_count": null,
   "source": "",
   "id": "75a41c0eef10e75b"
  }
 ],
 "metadata": {
  "kernelspec": {
   "display_name": "Python 3",
   "language": "python",
   "name": "python3"
  },
  "language_info": {
   "codemirror_mode": {
    "name": "ipython",
    "version": 2
   },
   "file_extension": ".py",
   "mimetype": "text/x-python",
   "name": "python",
   "nbconvert_exporter": "python",
   "pygments_lexer": "ipython2",
   "version": "2.7.6"
  }
 },
 "nbformat": 4,
 "nbformat_minor": 5
}
