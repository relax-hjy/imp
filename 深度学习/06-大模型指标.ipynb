{
 "cells": [
  {
   "cell_type": "code",
   "id": "initial_id",
   "metadata": {
    "collapsed": true,
    "ExecuteTime": {
     "end_time": "2025-07-14T09:34:09.391653Z",
     "start_time": "2025-07-14T09:34:09.369664Z"
    }
   },
   "source": [
    "from nltk.translate.bleu_score import sentence_bleu\n",
    "def cumulative_bleu(references, candidate):\n",
    "    bleu_1_gram=sentence_bleu(references, candidate, weights=(1, 0, 0, 0))\n",
    "    bleu_2_gram=sentence_bleu(references, candidate, weights=(0.5, 0.5, 0, 0))\n",
    "    bleu_3_gram=sentence_bleu(references, candidate, weights=(0.3, 0.3, 0.3, 0))\n",
    "    bleu_4_gram=sentence_bleu(references, candidate, weights=(0.25, 0.25, 0.25, 0.25))\n",
    "    return bleu_1_gram, bleu_2_gram, bleu_3_gram, bleu_4_gram\n",
    "\n",
    "candidate_text=[\"This\",\"is\",\"some\",\"generated\",\"text\"]\n",
    "\n",
    "reference_texts=[[\"This\",\"is\",\"some\",\"reference\",\"text\"]]\n",
    "#,[\"This\",\"is\",\"another\",\"reference\",\"text\"]\n",
    "c_bleu=cumulative_bleu(reference_texts, candidate_text)\n",
    "print(c_bleu)\n",
    "# 几何加权平均的结果"
   ],
   "outputs": [
    {
     "name": "stdout",
     "output_type": "stream",
     "text": [
      "(0.8, 0.6324555320336759, 0.5463634277011612, 7.380245217279165e-78)\n",
      "0.6\n"
     ]
    }
   ],
   "execution_count": 12
  },
  {
   "metadata": {
    "ExecuteTime": {
     "end_time": "2025-07-14T09:35:07.147116Z",
     "start_time": "2025-07-14T09:35:07.128125Z"
    }
   },
   "cell_type": "code",
   "source": [
    "from rouge import Rouge\n",
    "generated_text=\"This is some generated text\"\n",
    "\n",
    "\n",
    "reference_texts=[\"This is some reference text\",\"This is another reference text\"]\n",
    "\n",
    "rouge=Rouge()\n",
    "scores=rouge.get_scores(generated_text, reference_texts[0])\n",
    "print(scores)"
   ],
   "id": "cc7321cfe724db8c",
   "outputs": [
    {
     "name": "stdout",
     "output_type": "stream",
     "text": [
      "[{'rouge-1': {'r': 0.8, 'p': 0.8, 'f': 0.7999999950000002}, 'rouge-2': {'r': 0.5, 'p': 0.5, 'f': 0.4999999950000001}, 'rouge-l': {'r': 0.8, 'p': 0.8, 'f': 0.7999999950000002}}]\n"
     ]
    }
   ],
   "execution_count": 13
  },
  {
   "metadata": {
    "ExecuteTime": {
     "end_time": "2025-07-14T10:10:21.297243Z",
     "start_time": "2025-07-14T10:10:21.277061Z"
    }
   },
   "cell_type": "code",
   "source": [
    "import math\n",
    "\n",
    "sentences=[['this','is','a','tree'],['this','is','a','tree']]\n",
    "unigram={'this':3/10,'is':1/10,'a':3/10,'book':1/10,'tree':4/10}\n",
    "\n",
    "PPL=0\n",
    "# for s in sentences:\n",
    "#     PPL+=math.exp(-sum([math.log(unigram[w]) for w in s]))\n",
    "\n",
    "for sentence in sentences:\n",
    "    logs=0\n",
    "    for word in sentence:\n",
    "        logs+=math.log(unigram[word],2)\n",
    "    temp=-logs/len(sentence)\n",
    "    perplexity=2**temp\n",
    "    PPL=PPL+perplexity\n",
    "print(PPL/len(sentences))"
   ],
   "id": "eb7c76902e408804",
   "outputs": [
    {
     "name": "stdout",
     "output_type": "stream",
     "text": [
      "4.0824829046386295\n"
     ]
    }
   ],
   "execution_count": 15
  },
  {
   "metadata": {
    "ExecuteTime": {
     "end_time": "2025-07-15T05:42:01.846064Z",
     "start_time": "2025-07-15T05:41:55.962988Z"
    }
   },
   "cell_type": "code",
   "source": [
    "# 多线程和多进程是并发的两种方式，可以利用cpu的多核心，使得程序的运行效率更高\n",
    "# I/O密集型任务\n",
    "import threading\n",
    "import time\n",
    "import requests\n",
    "\n",
    "def download(url):\n",
    "    print(f\"开始下载: {url}\")\n",
    "    response = requests.get(url)\n",
    "    print(f\"{url} 下载完成，大小: {len(response.content)}字节\")\n",
    "\n",
    "urls = [\n",
    "    \"https://www.python.org\",\n",
    "    \"https://www.baidu.com\",\n",
    "    \"https://www.github.com\"\n",
    "]\n",
    "\n",
    "# 单线程执行（基准）\n",
    "start = time.time()\n",
    "for url in urls:\n",
    "    download(url)\n",
    "print(f\"单线程耗时: {time.time() - start:.2f}秒\\n\")\n",
    "\n",
    "# 多线程执行\n",
    "threads = []\n",
    "start = time.time()\n",
    "for url in urls:\n",
    "    t = threading.Thread(target=download, args=(url,))\n",
    "    t.start()\n",
    "    threads.append(t)\n",
    "\n",
    "for t in threads:\n",
    "    t.join()  # 等待所有线程结束\n",
    "print(f\"多线程耗时: {time.time() - start:.2f}秒\")"
   ],
   "id": "6f210944efb64dc0",
   "outputs": [
    {
     "name": "stdout",
     "output_type": "stream",
     "text": [
      "开始下载: https://www.python.org\n",
      "https://www.python.org 下载完成，大小: 49992字节\n",
      "开始下载: https://www.baidu.com\n",
      "https://www.baidu.com 下载完成，大小: 2443字节\n",
      "开始下载: https://www.github.com\n",
      "https://www.github.com 下载完成，大小: 286878字节\n",
      "单线程耗时: 3.71秒\n",
      "\n",
      "开始下载: https://www.python.org\n",
      "开始下载: https://www.baidu.com\n",
      "开始下载: https://www.github.com\n",
      "https://www.baidu.com 下载完成，大小: 2443字节\n",
      "https://www.python.org 下载完成，大小: 49992字节\n",
      "https://www.github.com 下载完成，大小: 286877字节\n",
      "多线程耗时: 2.16秒\n"
     ]
    }
   ],
   "execution_count": 7
  },
  {
   "metadata": {
    "ExecuteTime": {
     "end_time": "2025-07-15T05:45:00.836957Z",
     "start_time": "2025-07-15T05:45:00.005159Z"
    }
   },
   "cell_type": "code",
   "source": [
    "import threading\n",
    "\n",
    "# 共享资源\n",
    "counter = 0\n",
    "lock = threading.Lock()  # 创建锁对象\n",
    "\n",
    "def increment():\n",
    "    global counter\n",
    "    for _ in range(100000):  # 大量操作暴露同步问题\n",
    "        # 使用锁保护关键代码段\n",
    "        with lock:  # 自动获取和释放锁\n",
    "            counter += 1\n",
    "\n",
    "\n",
    "\n",
    "# 创建多个线程\n",
    "threads = []\n",
    "for i in range(6):\n",
    "    t = threading.Thread(target=increment)\n",
    "    threads.append(t)\n",
    "    t.start()\n",
    "\n",
    "# 等待所有线程完成\n",
    "for t in threads:\n",
    "    t.join()\n",
    "\n",
    "print(f\"最终计数器值: {counter}\")  # 应该是500000"
   ],
   "id": "69019715edb8fa9e",
   "outputs": [
    {
     "name": "stdout",
     "output_type": "stream",
     "text": [
      "最终计数器值: 600000\n"
     ]
    }
   ],
   "execution_count": 27
  },
  {
   "metadata": {
    "ExecuteTime": {
     "end_time": "2025-07-15T05:47:49.779706Z",
     "start_time": "2025-07-15T05:47:48.479011Z"
    }
   },
   "cell_type": "code",
   "source": [
    "from concurrent.futures import ThreadPoolExecutor\n",
    "import requests\n",
    "import time\n",
    "\n",
    "# 下载网页的函数\n",
    "def download(url):\n",
    "    start = time.time()\n",
    "    response = requests.get(url)\n",
    "    duration = time.time() - start\n",
    "    size = len(response.content)\n",
    "    return f\"{url}: {size}字节, 耗时: {duration:.2f}秒\"\n",
    "\n",
    "# 网页列表\n",
    "urls = [\n",
    "    \"https://www.python.org\",\n",
    "    \"https://www.baidu.com\",\n",
    "    \"https://www.github.com\",\n",
    "    \"https://www.google.com\",\n",
    "    \"https://www.microsoft.com\"\n",
    "]\n",
    "\n",
    "# 使用线程池执行\n",
    "start_time = time.time()\n",
    "with ThreadPoolExecutor(max_workers=5) as executor:\n",
    "    # 提交任务到线程池\n",
    "    futures = [executor.submit(download, url) for url in urls]\n",
    "    \n",
    "    # 获取结果\n",
    "    for future in futures:\n",
    "        print(future.result())\n",
    "\n",
    "print(f\"总耗时: {time.time() - start_time:.2f}秒\")"
   ],
   "id": "5e29c0723ef91b5c",
   "outputs": [
    {
     "name": "stdout",
     "output_type": "stream",
     "text": [
      "https://www.python.org: 49992字节, 耗时: 1.05秒\n",
      "https://www.baidu.com: 2443字节, 耗时: 0.12秒\n",
      "https://www.github.com: 286904字节, 耗时: 1.29秒\n",
      "https://www.google.com: 18265字节, 耗时: 0.79秒\n",
      "https://www.microsoft.com: 201253字节, 耗时: 0.25秒\n",
      "总耗时: 1.29秒\n"
     ]
    }
   ],
   "execution_count": 36
  },
  {
   "metadata": {
    "ExecuteTime": {
     "end_time": "2025-07-15T05:52:42.952795Z",
     "start_time": "2025-07-15T05:52:39.408498Z"
    }
   },
   "cell_type": "code",
   "source": [
    "import multiprocessing\n",
    "import time\n",
    "import os\n",
    "\n",
    "# 进程执行的任务函数\n",
    "def cpu_intensive_task(n):\n",
    "    print(f\"进程 {os.getpid()} 开始计算 {n}\",flush=True)\n",
    "    result = 0\n",
    "    for i in range(n):\n",
    "        result += i * i\n",
    "    print(f\"进程 {os.getpid()} 完成计算 {n}, 结果: {result}\",flush=True)\n",
    "    return result\n",
    "\n",
    "if __name__ == \"__main__\":  # 必须添加的防护\n",
    "    # 任务列表\n",
    "    tasks = [10000000, 15000000, 20000000]\n",
    "    \n",
    "    # 单进程执行\n",
    "    print(\"单进程执行:\")\n",
    "    start = time.time()\n",
    "    for task in tasks:\n",
    "        cpu_intensive_task(task)\n",
    "    print(f\"单进程耗时: {time.time() - start:.2f}秒\\n\")\n",
    "    \n",
    "    # 多进程执行\n",
    "    print(\"多进程执行:\")\n",
    "    processes = []\n",
    "    start = time.time()\n",
    "    for task in tasks:\n",
    "        p = multiprocessing.Process(target=cpu_intensive_task, args=(task,))\n",
    "        p.start()\n",
    "        processes.append(p)\n",
    "    \n",
    "    # 等待所有进程完成\n",
    "    for p in processes:\n",
    "        p.join()\n",
    "    \n",
    "    print(f\"多进程总耗时: {time.time() - start:.2f}秒\")"
   ],
   "id": "87b42cea31a7cc7d",
   "outputs": [
    {
     "name": "stdout",
     "output_type": "stream",
     "text": [
      "单进程执行:\n",
      "进程 18976 开始计算 10000000\n",
      "进程 18976 完成计算 10000000, 结果: 333333283333335000000\n",
      "进程 18976 开始计算 15000000\n",
      "进程 18976 完成计算 15000000, 结果: 1124999887500002500000\n",
      "进程 18976 开始计算 20000000\n",
      "进程 18976 完成计算 20000000, 结果: 2666666466666670000000\n",
      "单进程耗时: 3.15秒\n",
      "\n",
      "多进程执行:\n",
      "多进程总耗时: 0.37秒\n"
     ]
    }
   ],
   "execution_count": 39
  },
  {
   "metadata": {
    "ExecuteTime": {
     "end_time": "2025-07-15T05:56:46.864508Z",
     "start_time": "2025-07-15T05:56:46.625311Z"
    }
   },
   "cell_type": "code",
   "source": [
    "import multiprocessing\n",
    "\n",
    "def worker(k):\n",
    "    print(\"子进程输出\")\n",
    "    k.append('nihao')\n",
    "\n",
    "if __name__ == '__main__':\n",
    "    k=[]\n",
    "    p = multiprocessing.Process(target=worker, args=(k,))\n",
    "    p.start()\n",
    "    p.join()  # 等待子进程结束\n",
    "    print(k)"
   ],
   "id": "ccda3995c935e4f1",
   "outputs": [
    {
     "name": "stdout",
     "output_type": "stream",
     "text": [
      "[]\n"
     ]
    }
   ],
   "execution_count": 47
  },
  {
   "metadata": {
    "ExecuteTime": {
     "end_time": "2025-07-15T05:36:24.252119Z",
     "start_time": "2025-07-15T05:36:18.637685Z"
    }
   },
   "cell_type": "code",
   "source": [
    "from concurrent.futures import ThreadPoolExecutor, ProcessPoolExecutor\n",
    "\n",
    "# 线程池处理I/O任务\n",
    "with ThreadPoolExecutor(max_workers=5) as executor:\n",
    "    executor.map(download, urls)  # urls为下载链接列表\n",
    "\n",
    "# 进程池处理CPU任务\n",
    "if __name__ == \"__main__\":\n",
    "    with ProcessPoolExecutor() as executor:\n",
    "        results = executor.map(calculate, numbers)  # numbers为计算参数"
   ],
   "id": "a398e10a750a6aad",
   "outputs": [
    {
     "name": "stdout",
     "output_type": "stream",
     "text": [
      "开始下载: https://www.python.org开始下载: https://www.baidu.com\n",
      "\n",
      "开始下载: https://www.github.com\n",
      "https://www.baidu.com 下载完成，大小: 2443字节\n",
      "https://www.python.org 下载完成，大小: 49992字节\n",
      "https://www.github.com 下载完成，大小: 286878字节\n"
     ]
    }
   ],
   "execution_count": 6
  },
  {
   "metadata": {},
   "cell_type": "code",
   "outputs": [],
   "execution_count": null,
   "source": [
    "import threading\n",
    "counter = 0\n",
    "lock = threading.Lock()\n",
    "\n",
    "def safe_increment():\n",
    "    global counter\n",
    "    with lock:  # 自动获取和释放锁\n",
    "        counter += 1\n",
    "\n",
    "from multiprocessing import Queue\n",
    "q = Queue()\n",
    "\n",
    "def worker(q):\n",
    "    q.put(\"子进程数据\")\n",
    "\n",
    "if __name__ == \"__main__\":\n",
    "    p = multiprocessing.Process(target=worker, args=(q,))\n",
    "    p.start()\n",
    "    print(q.get())  # 输出: 子进程数据\n",
    "    p.join()"
   ],
   "id": "f52787ae96e0b23f"
  }
 ],
 "metadata": {
  "kernelspec": {
   "display_name": "Python 3",
   "language": "python",
   "name": "python3"
  },
  "language_info": {
   "codemirror_mode": {
    "name": "ipython",
    "version": 2
   },
   "file_extension": ".py",
   "mimetype": "text/x-python",
   "name": "python",
   "nbconvert_exporter": "python",
   "pygments_lexer": "ipython2",
   "version": "2.7.6"
  }
 },
 "nbformat": 4,
 "nbformat_minor": 5
}
