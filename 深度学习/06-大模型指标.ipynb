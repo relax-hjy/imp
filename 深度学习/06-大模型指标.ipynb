{
 "cells": [
  {
   "cell_type": "code",
   "id": "initial_id",
   "metadata": {
    "collapsed": true,
    "ExecuteTime": {
     "end_time": "2025-07-14T09:34:09.391653Z",
     "start_time": "2025-07-14T09:34:09.369664Z"
    }
   },
   "source": [
    "from nltk.translate.bleu_score import sentence_bleu\n",
    "def cumulative_bleu(references, candidate):\n",
    "    bleu_1_gram=sentence_bleu(references, candidate, weights=(1, 0, 0, 0))\n",
    "    bleu_2_gram=sentence_bleu(references, candidate, weights=(0.5, 0.5, 0, 0))\n",
    "    bleu_3_gram=sentence_bleu(references, candidate, weights=(0.3, 0.3, 0.3, 0))\n",
    "    bleu_4_gram=sentence_bleu(references, candidate, weights=(0.25, 0.25, 0.25, 0.25))\n",
    "    return bleu_1_gram, bleu_2_gram, bleu_3_gram, bleu_4_gram\n",
    "\n",
    "candidate_text=[\"This\",\"is\",\"some\",\"generated\",\"text\"]\n",
    "\n",
    "reference_texts=[[\"This\",\"is\",\"some\",\"reference\",\"text\"]]\n",
    "#,[\"This\",\"is\",\"another\",\"reference\",\"text\"]\n",
    "c_bleu=cumulative_bleu(reference_texts, candidate_text)\n",
    "print(c_bleu)\n",
    "# 几何加权平均的结果"
   ],
   "outputs": [
    {
     "name": "stdout",
     "output_type": "stream",
     "text": [
      "(0.8, 0.6324555320336759, 0.5463634277011612, 7.380245217279165e-78)\n",
      "0.6\n"
     ]
    }
   ],
   "execution_count": 12
  },
  {
   "metadata": {
    "ExecuteTime": {
     "end_time": "2025-07-14T09:35:07.147116Z",
     "start_time": "2025-07-14T09:35:07.128125Z"
    }
   },
   "cell_type": "code",
   "source": [
    "from rouge import Rouge\n",
    "generated_text=\"This is some generated text\"\n",
    "\n",
    "\n",
    "reference_texts=[\"This is some reference text\",\"This is another reference text\"]\n",
    "\n",
    "rouge=Rouge()\n",
    "scores=rouge.get_scores(generated_text, reference_texts[0])\n",
    "print(scores)"
   ],
   "id": "cc7321cfe724db8c",
   "outputs": [
    {
     "name": "stdout",
     "output_type": "stream",
     "text": [
      "[{'rouge-1': {'r': 0.8, 'p': 0.8, 'f': 0.7999999950000002}, 'rouge-2': {'r': 0.5, 'p': 0.5, 'f': 0.4999999950000001}, 'rouge-l': {'r': 0.8, 'p': 0.8, 'f': 0.7999999950000002}}]\n"
     ]
    }
   ],
   "execution_count": 13
  },
  {
   "metadata": {
    "ExecuteTime": {
     "end_time": "2025-07-14T10:10:21.297243Z",
     "start_time": "2025-07-14T10:10:21.277061Z"
    }
   },
   "cell_type": "code",
   "source": [
    "import math\n",
    "\n",
    "sentences=[['this','is','a','tree'],['this','is','a','tree']]\n",
    "unigram={'this':3/10,'is':1/10,'a':3/10,'book':1/10,'tree':4/10}\n",
    "\n",
    "PPL=0\n",
    "# for s in sentences:\n",
    "#     PPL+=math.exp(-sum([math.log(unigram[w]) for w in s]))\n",
    "\n",
    "for sentence in sentences:\n",
    "    logs=0\n",
    "    for word in sentence:\n",
    "        logs+=math.log(unigram[word],2)\n",
    "    temp=-logs/len(sentence)\n",
    "    perplexity=2**temp\n",
    "    PPL=PPL+perplexity\n",
    "print(PPL/len(sentences))"
   ],
   "id": "eb7c76902e408804",
   "outputs": [
    {
     "name": "stdout",
     "output_type": "stream",
     "text": [
      "4.0824829046386295\n"
     ]
    }
   ],
   "execution_count": 15
  }
 ],
 "metadata": {
  "kernelspec": {
   "display_name": "Python 3",
   "language": "python",
   "name": "python3"
  },
  "language_info": {
   "codemirror_mode": {
    "name": "ipython",
    "version": 2
   },
   "file_extension": ".py",
   "mimetype": "text/x-python",
   "name": "python",
   "nbconvert_exporter": "python",
   "pygments_lexer": "ipython2",
   "version": "2.7.6"
  }
 },
 "nbformat": 4,
 "nbformat_minor": 5
}
